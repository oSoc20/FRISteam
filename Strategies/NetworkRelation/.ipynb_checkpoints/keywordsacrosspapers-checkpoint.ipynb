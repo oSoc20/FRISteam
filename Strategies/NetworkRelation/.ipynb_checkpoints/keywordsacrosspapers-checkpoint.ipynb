{
 "cells": [
  {
   "cell_type": "code",
   "execution_count": 199,
   "metadata": {},
   "outputs": [],
   "source": [
    "# import necessary packages\n",
    "import pandas as pd\n",
    "import numpy as np\n",
    "import re\n",
    "import string\n",
    "import spacy\n",
    "from spacy.lang.en.stop_words import STOP_WORDS as en_STOP_WORDS\n",
    "from spacy.lang.nl.stop_words import STOP_WORDS as nl_STOP_WORDS\n",
    "import en_core_web_sm\n",
    "import nl_core_news_sm\n",
    "import collections\n",
    "\n",
    "ensp = spacy.load('en_core_web_sm')\n",
    "nlsp = spacy.load('nl_core_news_sm')\n",
    "ensp_singlewords = spacy.load('en_core_web_sm', disable=['parser', 'ner']) # just keep tagger for lemmatization for English\n",
    "nlsp_singlewords = spacy.load('nl_core_news_sm', disable=['parser', 'ner']) # just keep tagger for lemmatization for Dutch\n",
    "\n",
    "en_stopwords = ensw.Defaults.stop_words\n",
    "nl_stopwords = nlsw.Defaults.stop_words"
   ]
  },
  {
   "cell_type": "code",
   "execution_count": 116,
   "metadata": {},
   "outputs": [],
   "source": [
    "# read in and preprocess data\n",
    "data = pd.read_csv(\"data.csv\")\n",
    "df = data.copy()"
   ]
  },
  {
   "cell_type": "code",
   "execution_count": 117,
   "metadata": {},
   "outputs": [
    {
     "data": {
      "text/html": [
       "<div>\n",
       "<style scoped>\n",
       "    .dataframe tbody tr th:only-of-type {\n",
       "        vertical-align: middle;\n",
       "    }\n",
       "\n",
       "    .dataframe tbody tr th {\n",
       "        vertical-align: top;\n",
       "    }\n",
       "\n",
       "    .dataframe thead th {\n",
       "        text-align: right;\n",
       "    }\n",
       "</style>\n",
       "<table border=\"1\" class=\"dataframe\">\n",
       "  <thead>\n",
       "    <tr style=\"text-align: right;\">\n",
       "      <th></th>\n",
       "      <th>Unnamed: 0</th>\n",
       "      <th>project_id</th>\n",
       "      <th>english_keywords</th>\n",
       "      <th>dutch_keywords</th>\n",
       "      <th>abstract_id</th>\n",
       "      <th>english_abstract</th>\n",
       "      <th>dutch_abstract</th>\n",
       "      <th>data_provider_id</th>\n",
       "      <th>data_provider_name</th>\n",
       "      <th>Unnamed: 8</th>\n",
       "    </tr>\n",
       "  </thead>\n",
       "  <tbody>\n",
       "    <tr>\n",
       "      <th>0</th>\n",
       "      <td>0</td>\n",
       "      <td>6fa0f7de-4502-4995-92ae-5467e49df1b3</td>\n",
       "      <td>Ion channels;Positive allosteric modulators;Cr...</td>\n",
       "      <td>NaN</td>\n",
       "      <td>148096734</td>\n",
       "      <td>Nicotinic acetylcholine receptors (nAChRs) are...</td>\n",
       "      <td>Nicotine-acetylcholinereceptoren (nAChR's) zij...</td>\n",
       "      <td>54937891</td>\n",
       "      <td>KULeuven</td>\n",
       "      <td>NaN</td>\n",
       "    </tr>\n",
       "    <tr>\n",
       "      <th>1</th>\n",
       "      <td>1</td>\n",
       "      <td>50a0f20c-331a-41d9-a1ce-24cf21657a48</td>\n",
       "      <td>Entrepreneurial orientation;Strategy;Environme...</td>\n",
       "      <td>NaN</td>\n",
       "      <td>148089590</td>\n",
       "      <td>In today's intense global competition, and a r...</td>\n",
       "      <td>In today's intense global competition, and a r...</td>\n",
       "      <td>52804525</td>\n",
       "      <td>KULeuven</td>\n",
       "      <td>NaN</td>\n",
       "    </tr>\n",
       "    <tr>\n",
       "      <th>2</th>\n",
       "      <td>2</td>\n",
       "      <td>0ecff36a-9401-431f-a1e9-185c61e89749</td>\n",
       "      <td>breast cancer;</td>\n",
       "      <td>NaN</td>\n",
       "      <td>147893558</td>\n",
       "      <td>Increased body mass index (BMI) has been recog...</td>\n",
       "      <td>Een verhoogd â€˜body mass index' (BMI) is een ...</td>\n",
       "      <td>54933510</td>\n",
       "      <td>KULeuven</td>\n",
       "      <td>NaN</td>\n",
       "    </tr>\n",
       "    <tr>\n",
       "      <th>3</th>\n",
       "      <td>3</td>\n",
       "      <td>43aba49c-eb93-4905-863d-1452b5f9fe80</td>\n",
       "      <td>affording;</td>\n",
       "      <td>NaN</td>\n",
       "      <td>147604762</td>\n",
       "      <td>Interactive alignment (i.e. copying behaviour ...</td>\n",
       "      <td>Eerder onderzoek heeft aangetoond dat kopieged...</td>\n",
       "      <td>54926224</td>\n",
       "      <td>KULeuven</td>\n",
       "      <td>NaN</td>\n",
       "    </tr>\n",
       "    <tr>\n",
       "      <th>4</th>\n",
       "      <td>4</td>\n",
       "      <td>716b1c6d-e7c2-43d9-994d-b2d9aeccdd24</td>\n",
       "      <td>metrology;</td>\n",
       "      <td>NaN</td>\n",
       "      <td>147604718</td>\n",
       "      <td>In this project research into the topographic ...</td>\n",
       "      <td>In dit project zal onderzoek naar de topografi...</td>\n",
       "      <td>54926170</td>\n",
       "      <td>KULeuven</td>\n",
       "      <td>NaN</td>\n",
       "    </tr>\n",
       "  </tbody>\n",
       "</table>\n",
       "</div>"
      ],
      "text/plain": [
       "   Unnamed: 0                            project_id  \\\n",
       "0           0  6fa0f7de-4502-4995-92ae-5467e49df1b3   \n",
       "1           1  50a0f20c-331a-41d9-a1ce-24cf21657a48   \n",
       "2           2  0ecff36a-9401-431f-a1e9-185c61e89749   \n",
       "3           3  43aba49c-eb93-4905-863d-1452b5f9fe80   \n",
       "4           4  716b1c6d-e7c2-43d9-994d-b2d9aeccdd24   \n",
       "\n",
       "                                    english_keywords dutch_keywords  \\\n",
       "0  Ion channels;Positive allosteric modulators;Cr...            NaN   \n",
       "1  Entrepreneurial orientation;Strategy;Environme...            NaN   \n",
       "2                                     breast cancer;            NaN   \n",
       "3                                         affording;            NaN   \n",
       "4                                         metrology;            NaN   \n",
       "\n",
       "   abstract_id                                   english_abstract  \\\n",
       "0    148096734  Nicotinic acetylcholine receptors (nAChRs) are...   \n",
       "1    148089590  In today's intense global competition, and a r...   \n",
       "2    147893558  Increased body mass index (BMI) has been recog...   \n",
       "3    147604762  Interactive alignment (i.e. copying behaviour ...   \n",
       "4    147604718  In this project research into the topographic ...   \n",
       "\n",
       "                                      dutch_abstract  data_provider_id  \\\n",
       "0  Nicotine-acetylcholinereceptoren (nAChR's) zij...          54937891   \n",
       "1  In today's intense global competition, and a r...          52804525   \n",
       "2  Een verhoogd â€˜body mass index' (BMI) is een ...          54933510   \n",
       "3  Eerder onderzoek heeft aangetoond dat kopieged...          54926224   \n",
       "4  In dit project zal onderzoek naar de topografi...          54926170   \n",
       "\n",
       "  data_provider_name  Unnamed: 8  \n",
       "0           KULeuven         NaN  \n",
       "1           KULeuven         NaN  \n",
       "2           KULeuven         NaN  \n",
       "3           KULeuven         NaN  \n",
       "4           KULeuven         NaN  "
      ]
     },
     "execution_count": 117,
     "metadata": {},
     "output_type": "execute_result"
    }
   ],
   "source": [
    "df.head()"
   ]
  },
  {
   "cell_type": "code",
   "execution_count": 118,
   "metadata": {},
   "outputs": [],
   "source": [
    "# preprocesses the keywords\n",
    "for index, row in enumerate(df[\"english_keywords\"]):\n",
    "    if pd.isna(df.iloc[index][\"english_keywords\"]) is False:\n",
    "        df.at[index,\"english_keywords\"] = re.findall(r\"[\\w]+\", df.iloc[index][\"english_keywords\"].lower())"
   ]
  },
  {
   "cell_type": "code",
   "execution_count": 185,
   "metadata": {},
   "outputs": [],
   "source": [
    "# Preprocessing abstracts: lowercasing, splitting, punctuation removal, stopword removal WITHOUT LEMMATIZATION\n",
    "# abstract = df.iloc[0][\"english_abstract\"].translate(str.maketrans('', '', string.punctuation)).lower().split()\n",
    "# tokens = [word for word in abstract if not word in en_stopwords]"
   ]
  },
  {
   "cell_type": "code",
   "execution_count": 197,
   "metadata": {},
   "outputs": [],
   "source": [
    "# Preprocessing the abstract WITH lemmatization\n",
    "abstract = ensp(df.iloc[0][\"english_abstract\"].translate(str.maketrans('', '', string.punctuation)))\n",
    "tokens = [word.lemma_ for word in abstract1 if not word.lemma_ in en_stopwords and len(word) > 1]"
   ]
  },
  {
   "cell_type": "code",
   "execution_count": 198,
   "metadata": {},
   "outputs": [
    {
     "name": "stdout",
     "output_type": "stream",
     "text": [
      "Counter({'alpha7': 0.037037037037037035, 'protein': 0.037037037037037035, 'acetylcholine': 0.027777777777777776, 'target': 0.027777777777777776, 'disease': 0.027777777777777776, 'goal': 0.027777777777777776, 'novel': 0.027777777777777776, 'compound': 0.027777777777777776, 'nicotinic': 0.018518518518518517, 'receptor': 0.018518518518518517, 'disorder': 0.018518518518518517, 'subtype': 0.018518518518518517, 'cognition': 0.018518518518518517, 'schizophrenia': 0.018518518518518517, 'structure': 0.018518518518518517, 'nAChR': 0.018518518518518517, 'development': 0.018518518518518517, 'drug': 0.018518518518518517, 'nAChRs': 0.009259259259259259, 'relevant': 0.009259259259259259, 'therapeutic': 0.009259259259259259, 'brain': 0.009259259259259259, 'promising': 0.009259259259259259, 'associate': 0.009259259259259259, 'cognitive': 0.009259259259259259, 'dysfunction': 0.009259259259259259, 'scientific': 0.009259259259259259, 'develop': 0.009259259259259259, 'molecule': 0.009259259259259259, 'Î±7': 0.009259259259259259, 'improve': 0.009259259259259259, 'Alzheimers': 0.009259259259259259, 'remain': 0.009259259259259259, 'unmet': 0.009259259259259259, 'medical': 0.009259259259259259, 'need': 0.009259259259259259, 'main': 0.009259259259259259, 'obtain': 0.009259259259259259, 'patent': 0.009259259259259259, 'negotiate': 0.009259259259259259, 'license': 0.009259259259259259, 'pharmaceutical': 0.009259259259259259, 'company': 0.009259259259259259, '3dimensional': 0.009259259259259259, 'available': 0.009259259259259259, 'detailed': 0.009259259259259259, 'insight': 0.009259259259259259, 'atomic': 0.009259259259259259, 'level': 0.009259259259259259, 'yield': 0.009259259259259259, 'invaluable': 0.009259259259259259, 'information': 0.009259259259259259, 'function': 0.009259259259259259, 'facilitate': 0.009259259259259259, 'discovery': 0.009259259259259259, 'new': 0.009259259259259259, 'marine': 0.009259259259259259, 'snail': 0.009259259259259259, 'binding': 0.009259259259259259, 'engineer': 0.009259259259259259, 'mimic': 0.009259259259259259, 'human': 0.009259259259259259, 'offer': 0.009259259259259259, 'realistic': 0.009259259259259259, 'template': 0.009259259259259259, 'structurebase': 0.009259259259259259, 'design': 0.009259259259259259, 'project': 0.009259259259259259, 'high': 0.009259259259259259, 'affinity': 0.009259259259259259, 'lead': 0.009259259259259259, 'activity': 0.009259259259259259, 'positive': 0.009259259259259259, 'allosteric': 0.009259259259259259, 'modulator': 0.009259259259259259, 'nachr': 0.009259259259259259, 'potential': 0.009259259259259259, 'application': 0.009259259259259259, 'enhancer': 0.009259259259259259, 'Alheimers': 0.009259259259259259})\n"
     ]
    }
   ],
   "source": [
    "# calculates the term frequency\n",
    "counter = collections.Counter()\n",
    "tf_dict = counter.copy()\n",
    "for word in tokens:\n",
    "    counter[word] += 1\n",
    "for word in counter:\n",
    "    tf_dict[word] = counter.get(word)/len(tokens)\n",
    "print(tf_dict)"
   ]
  },
  {
   "cell_type": "code",
   "execution_count": 122,
   "metadata": {},
   "outputs": [],
   "source": [
    "# sorts a dictionary\n",
    "# {k: v for k, v in sorted(tf_dict.items(), key=lambda item: item[1])}"
   ]
  },
  {
   "cell_type": "code",
   "execution_count": 201,
   "metadata": {},
   "outputs": [],
   "source": [
    "idf_dict = collections.Counter()\n",
    "for index, row in enumerate(df[\"english_keywords\"]):\n",
    "    if df.isna().iloc[index][\"english_keywords\"] == False:\n",
    "        for word in df.iloc[index][\"english_keywords\"]:\n",
    "            lemma = \" \".join([word.lemma_ for word in ensp_singlewords('ducks')])\n",
    "            idf_dict[lemma] += 1"
   ]
  },
  {
   "cell_type": "code",
   "execution_count": 202,
   "metadata": {},
   "outputs": [
    {
     "data": {
      "text/plain": [
       "Counter({'duck': 557})"
      ]
     },
     "execution_count": 202,
     "metadata": {},
     "output_type": "execute_result"
    }
   ],
   "source": [
    "idf_dict"
   ]
  },
  {
   "cell_type": "code",
   "execution_count": 200,
   "metadata": {},
   "outputs": [
    {
     "data": {
      "text/plain": [
       "'duck'"
      ]
     },
     "execution_count": 200,
     "metadata": {},
     "output_type": "execute_result"
    }
   ],
   "source": [
    "word = \"ducks\"\n",
    "\" \".join([word.lemma_ for word in ensp_singlewords('ducks')])"
   ]
  }
 ],
 "metadata": {
  "kernelspec": {
   "display_name": "Python 3",
   "language": "python",
   "name": "python3"
  },
  "language_info": {
   "codemirror_mode": {
    "name": "ipython",
    "version": 3
   },
   "file_extension": ".py",
   "mimetype": "text/x-python",
   "name": "python",
   "nbconvert_exporter": "python",
   "pygments_lexer": "ipython3",
   "version": "3.7.3"
  }
 },
 "nbformat": 4,
 "nbformat_minor": 2
}
