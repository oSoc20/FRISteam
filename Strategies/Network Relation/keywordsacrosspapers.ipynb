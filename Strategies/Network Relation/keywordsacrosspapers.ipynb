{
 "cells": [
  {
   "cell_type": "code",
   "execution_count": 1,
   "metadata": {},
   "outputs": [],
   "source": [
    "# import necessary packages\n",
    "import pandas as pd\n",
    "import numpy as np\n",
    "import re\n",
    "import string\n",
    "import spacy\n",
    "from spacy.lang.en.stop_words import STOP_WORDS as en_STOP_WORDS\n",
    "from spacy.lang.nl.stop_words import STOP_WORDS as nl_STOP_WORDS\n",
    "import en_core_web_sm\n",
    "import nl_core_news_sm\n",
    "import collections\n",
    "\n",
    "ensp = en_core_web_sm.load()\n",
    "nlsp = nl_core_news_sm.load()\n",
    "ensp_singlewords = en_core_web_sm.load(disable=['parser', 'ner']) # just keep tagger for lemmatization for English\n",
    "nlsp_singlewords = nl_core_news_sm.load(disable=['parser', 'ner']) # just keep tagger for lemmatization for Dutch\n",
    "\n",
    "en_stopwords = ensp.Defaults.stop_words\n",
    "nl_stopwords = nlsp.Defaults.stop_words"
   ]
  },
  {
   "cell_type": "code",
   "execution_count": 2,
   "metadata": {},
   "outputs": [],
   "source": [
    "# read in and preprocess data\n",
    "data = pd.read_csv(\"data.csv\")\n",
    "df = data.copy()"
   ]
  },
  {
   "cell_type": "code",
   "execution_count": 3,
   "metadata": {},
   "outputs": [
    {
     "output_type": "execute_result",
     "data": {
      "text/plain": "   Unnamed: 0                            project_id  \\\n0           0  6fa0f7de-4502-4995-92ae-5467e49df1b3   \n1           1  50a0f20c-331a-41d9-a1ce-24cf21657a48   \n2           2  0ecff36a-9401-431f-a1e9-185c61e89749   \n3           3  43aba49c-eb93-4905-863d-1452b5f9fe80   \n4           4  716b1c6d-e7c2-43d9-994d-b2d9aeccdd24   \n\n                                    english_keywords dutch_keywords  \\\n0  Ion channels;Positive allosteric modulators;Cr...            NaN   \n1  Entrepreneurial orientation;Strategy;Environme...            NaN   \n2                                     breast cancer;            NaN   \n3                                         affording;            NaN   \n4                                         metrology;            NaN   \n\n   abstract_id                                   english_abstract  \\\n0    148096734  Nicotinic acetylcholine receptors (nAChRs) are...   \n1    148089590  In today's intense global competition, and a r...   \n2    147893558  Increased body mass index (BMI) has been recog...   \n3    147604762  Interactive alignment (i.e. copying behaviour ...   \n4    147604718  In this project research into the topographic ...   \n\n                                      dutch_abstract  data_provider_id  \\\n0  Nicotine-acetylcholinereceptoren (nAChR's) zij...          54937891   \n1  In today's intense global competition, and a r...          52804525   \n2  Een verhoogd â€˜body mass index' (BMI) is een ...          54933510   \n3  Eerder onderzoek heeft aangetoond dat kopieged...          54926224   \n4  In dit project zal onderzoek naar de topografi...          54926170   \n\n  data_provider_name  Unnamed: 8  \n0           KULeuven         NaN  \n1           KULeuven         NaN  \n2           KULeuven         NaN  \n3           KULeuven         NaN  \n4           KULeuven         NaN  ",
      "text/html": "<div>\n<style scoped>\n    .dataframe tbody tr th:only-of-type {\n        vertical-align: middle;\n    }\n\n    .dataframe tbody tr th {\n        vertical-align: top;\n    }\n\n    .dataframe thead th {\n        text-align: right;\n    }\n</style>\n<table border=\"1\" class=\"dataframe\">\n  <thead>\n    <tr style=\"text-align: right;\">\n      <th></th>\n      <th>Unnamed: 0</th>\n      <th>project_id</th>\n      <th>english_keywords</th>\n      <th>dutch_keywords</th>\n      <th>abstract_id</th>\n      <th>english_abstract</th>\n      <th>dutch_abstract</th>\n      <th>data_provider_id</th>\n      <th>data_provider_name</th>\n      <th>Unnamed: 8</th>\n    </tr>\n  </thead>\n  <tbody>\n    <tr>\n      <th>0</th>\n      <td>0</td>\n      <td>6fa0f7de-4502-4995-92ae-5467e49df1b3</td>\n      <td>Ion channels;Positive allosteric modulators;Cr...</td>\n      <td>NaN</td>\n      <td>148096734</td>\n      <td>Nicotinic acetylcholine receptors (nAChRs) are...</td>\n      <td>Nicotine-acetylcholinereceptoren (nAChR's) zij...</td>\n      <td>54937891</td>\n      <td>KULeuven</td>\n      <td>NaN</td>\n    </tr>\n    <tr>\n      <th>1</th>\n      <td>1</td>\n      <td>50a0f20c-331a-41d9-a1ce-24cf21657a48</td>\n      <td>Entrepreneurial orientation;Strategy;Environme...</td>\n      <td>NaN</td>\n      <td>148089590</td>\n      <td>In today's intense global competition, and a r...</td>\n      <td>In today's intense global competition, and a r...</td>\n      <td>52804525</td>\n      <td>KULeuven</td>\n      <td>NaN</td>\n    </tr>\n    <tr>\n      <th>2</th>\n      <td>2</td>\n      <td>0ecff36a-9401-431f-a1e9-185c61e89749</td>\n      <td>breast cancer;</td>\n      <td>NaN</td>\n      <td>147893558</td>\n      <td>Increased body mass index (BMI) has been recog...</td>\n      <td>Een verhoogd â€˜body mass index' (BMI) is een ...</td>\n      <td>54933510</td>\n      <td>KULeuven</td>\n      <td>NaN</td>\n    </tr>\n    <tr>\n      <th>3</th>\n      <td>3</td>\n      <td>43aba49c-eb93-4905-863d-1452b5f9fe80</td>\n      <td>affording;</td>\n      <td>NaN</td>\n      <td>147604762</td>\n      <td>Interactive alignment (i.e. copying behaviour ...</td>\n      <td>Eerder onderzoek heeft aangetoond dat kopieged...</td>\n      <td>54926224</td>\n      <td>KULeuven</td>\n      <td>NaN</td>\n    </tr>\n    <tr>\n      <th>4</th>\n      <td>4</td>\n      <td>716b1c6d-e7c2-43d9-994d-b2d9aeccdd24</td>\n      <td>metrology;</td>\n      <td>NaN</td>\n      <td>147604718</td>\n      <td>In this project research into the topographic ...</td>\n      <td>In dit project zal onderzoek naar de topografi...</td>\n      <td>54926170</td>\n      <td>KULeuven</td>\n      <td>NaN</td>\n    </tr>\n  </tbody>\n</table>\n</div>"
     },
     "metadata": {},
     "execution_count": 3
    }
   ],
   "source": [
    "df.head()"
   ]
  },
  {
   "cell_type": "code",
   "execution_count": 88,
   "metadata": {},
   "outputs": [
    {
     "output_type": "execute_result",
     "data": {
      "text/plain": "   Unnamed: 0                            project_id  \\\n0           0  6fa0f7de-4502-4995-92ae-5467e49df1b3   \n1           1  50a0f20c-331a-41d9-a1ce-24cf21657a48   \n2           2  0ecff36a-9401-431f-a1e9-185c61e89749   \n3           3  43aba49c-eb93-4905-863d-1452b5f9fe80   \n4           4  716b1c6d-e7c2-43d9-994d-b2d9aeccdd24   \n\n                                    english_keywords dutch_keywords  \\\n0  [ion, channels, positive, allosteric, modulato...            NaN   \n1  [entrepreneurial, orientation, strategy, envir...            NaN   \n2                                   [breast, cancer]            NaN   \n3                                        [affording]            NaN   \n4                                        [metrology]            NaN   \n\n   abstract_id                                   english_abstract  \\\n0    148096734  Nicotinic acetylcholine receptors (nAChRs) are...   \n1    148089590  In today's intense global competition, and a r...   \n2    147893558  Increased body mass index (BMI) has been recog...   \n3    147604762  Interactive alignment (i.e. copying behaviour ...   \n4    147604718  In this project research into the topographic ...   \n\n                                      dutch_abstract  data_provider_id  \\\n0  Nicotine-acetylcholinereceptoren (nAChR's) zij...          54937891   \n1  In today's intense global competition, and a r...          52804525   \n2  Een verhoogd â€˜body mass index' (BMI) is een ...          54933510   \n3  Eerder onderzoek heeft aangetoond dat kopieged...          54926224   \n4  In dit project zal onderzoek naar de topografi...          54926170   \n\n  data_provider_name  Unnamed: 8  \n0           KULeuven         NaN  \n1           KULeuven         NaN  \n2           KULeuven         NaN  \n3           KULeuven         NaN  \n4           KULeuven         NaN  ",
      "text/html": "<div>\n<style scoped>\n    .dataframe tbody tr th:only-of-type {\n        vertical-align: middle;\n    }\n\n    .dataframe tbody tr th {\n        vertical-align: top;\n    }\n\n    .dataframe thead th {\n        text-align: right;\n    }\n</style>\n<table border=\"1\" class=\"dataframe\">\n  <thead>\n    <tr style=\"text-align: right;\">\n      <th></th>\n      <th>Unnamed: 0</th>\n      <th>project_id</th>\n      <th>english_keywords</th>\n      <th>dutch_keywords</th>\n      <th>abstract_id</th>\n      <th>english_abstract</th>\n      <th>dutch_abstract</th>\n      <th>data_provider_id</th>\n      <th>data_provider_name</th>\n      <th>Unnamed: 8</th>\n    </tr>\n  </thead>\n  <tbody>\n    <tr>\n      <th>0</th>\n      <td>0</td>\n      <td>6fa0f7de-4502-4995-92ae-5467e49df1b3</td>\n      <td>[ion, channels, positive, allosteric, modulato...</td>\n      <td>NaN</td>\n      <td>148096734</td>\n      <td>Nicotinic acetylcholine receptors (nAChRs) are...</td>\n      <td>Nicotine-acetylcholinereceptoren (nAChR's) zij...</td>\n      <td>54937891</td>\n      <td>KULeuven</td>\n      <td>NaN</td>\n    </tr>\n    <tr>\n      <th>1</th>\n      <td>1</td>\n      <td>50a0f20c-331a-41d9-a1ce-24cf21657a48</td>\n      <td>[entrepreneurial, orientation, strategy, envir...</td>\n      <td>NaN</td>\n      <td>148089590</td>\n      <td>In today's intense global competition, and a r...</td>\n      <td>In today's intense global competition, and a r...</td>\n      <td>52804525</td>\n      <td>KULeuven</td>\n      <td>NaN</td>\n    </tr>\n    <tr>\n      <th>2</th>\n      <td>2</td>\n      <td>0ecff36a-9401-431f-a1e9-185c61e89749</td>\n      <td>[breast, cancer]</td>\n      <td>NaN</td>\n      <td>147893558</td>\n      <td>Increased body mass index (BMI) has been recog...</td>\n      <td>Een verhoogd â€˜body mass index' (BMI) is een ...</td>\n      <td>54933510</td>\n      <td>KULeuven</td>\n      <td>NaN</td>\n    </tr>\n    <tr>\n      <th>3</th>\n      <td>3</td>\n      <td>43aba49c-eb93-4905-863d-1452b5f9fe80</td>\n      <td>[affording]</td>\n      <td>NaN</td>\n      <td>147604762</td>\n      <td>Interactive alignment (i.e. copying behaviour ...</td>\n      <td>Eerder onderzoek heeft aangetoond dat kopieged...</td>\n      <td>54926224</td>\n      <td>KULeuven</td>\n      <td>NaN</td>\n    </tr>\n    <tr>\n      <th>4</th>\n      <td>4</td>\n      <td>716b1c6d-e7c2-43d9-994d-b2d9aeccdd24</td>\n      <td>[metrology]</td>\n      <td>NaN</td>\n      <td>147604718</td>\n      <td>In this project research into the topographic ...</td>\n      <td>In dit project zal onderzoek naar de topografi...</td>\n      <td>54926170</td>\n      <td>KULeuven</td>\n      <td>NaN</td>\n    </tr>\n  </tbody>\n</table>\n</div>"
     },
     "metadata": {},
     "execution_count": 88
    }
   ],
   "source": [
    "df.head()"
   ]
  },
  {
   "cell_type": "code",
   "execution_count": 4,
   "metadata": {},
   "outputs": [],
   "source": [
    "# preprocesses the keywords\n",
    "for index, row in enumerate(dataframe[\"english_keywords\"]):\n",
    "    if pd.isna(dataframe.iloc[index][\"english_keywords\"]) is False:\n",
    "        dataframe.at[index,\"english_keywords\"] = re.findall(r\"[\\w]+\", dataframe.iloc[index][\"english_keywords\"].lower())"
   ]
  },
  {
   "cell_type": "code",
   "execution_count": 57,
   "metadata": {},
   "outputs": [],
   "source": [
    "# Preprocessing the abstract WITH lemmatization\n",
    "def preprocess_abstract(text, langTag):\n",
    "    \"\"\"function preprocess_abstract : preprocesses a string (e.g. an abstract)\n",
    "\n",
    "   Args:\n",
    "       text (string): a string\n",
    "       langTag (string): the language of the words in wordList and the synonyms (e.g. 'eng' for English and 'nld' for Dutch)\n",
    "\n",
    "   Returns:\n",
    "       list: {dictionary of terms with their frequency relative to the total amount of words}\n",
    "   \"\"\"\n",
    "    abstract = ensp(text.translate(str.maketrans('', '', string.punctuation)))\n",
    "    tokens = [word.lemma_ for word in abstract if not word.lemma_ in en_stopwords and len(word) > 1]\n",
    "    return tokens"
   ]
  },
  {
   "cell_type": "code",
   "execution_count": 58,
   "metadata": {
    "tags": []
   },
   "outputs": [],
   "source": [
    "# calculates the term frequency\n",
    "def term_frequency(tokens):\n",
    "    \"\"\"function term_frequency : calculates the frequencies of terms from a list of words\n",
    "\n",
    "   Args:\n",
    "       tokens ([list of strings]): a list of strings (e.g. single words from an abstract)\n",
    "\n",
    "   Returns:\n",
    "       list: {dictionary of terms with their frequency relative to the total amount of words}\n",
    "   \"\"\"\n",
    "    counter = collections.Counter()\n",
    "    tf_dict = counter.copy()\n",
    "    for word in tokens:\n",
    "        counter[word] += 1\n",
    "    for word in counter:\n",
    "        tf_dict[word] = counter.get(word)/len(tokens)\n",
    "    return tf_dict"
   ]
  },
  {
   "cell_type": "code",
   "execution_count": 19,
   "metadata": {},
   "outputs": [],
   "source": [
    "idf_dict = collections.Counter()\n",
    "for index, row in enumerate(df[\"english_keywords\"]):\n",
    "    if df.isna().iloc[index][\"english_keywords\"] == False:\n",
    "        for word in df.iloc[index][\"english_keywords\"]:\n",
    "            lemma = \" \".join([word.lemma_ for word in ensp_singlewords(word)])\n",
    "            idf_dict[lemma] += 1"
   ]
  },
  {
   "cell_type": "code",
   "execution_count": 72,
   "metadata": {},
   "outputs": [
    {
     "output_type": "execute_result",
     "data": {
      "text/plain": "Counter({'ion': 1,\n         'channel': 2,\n         'positive': 1,\n         'allosteric': 1,\n         'modulator': 1,\n         'crystallography': 1,\n         'entrepreneurial': 1,\n         'orientation': 1,\n         'strategy': 1,\n         'environmental': 3,\n         'uncertainty': 1,\n         'breast': 1,\n         'cancer': 3,\n         'afford': 1,\n         'metrology': 1,\n         'brain': 2,\n         'stimulation': 1,\n         'signal': 1,\n         'analysis': 6,\n         'bio': 2,\n         'control': 2,\n         'global': 1,\n         'city': 3,\n         'history': 5,\n         'medieval': 1,\n         'politic': 1,\n         'craft': 1,\n         'guild': 1,\n         'political': 2,\n         'participation': 1,\n         'urban': 3,\n         'low': 1,\n         'country': 2,\n         'duchy': 1,\n         'of': 4,\n         'brabant': 1,\n         'prince': 1,\n         'bishopric': 1,\n         'liã': 1,\n         'ge': 1,\n         'sint': 1,\n         'truiden': 1,\n         'maastricht': 1,\n         'leuven': 2,\n         'social': 6,\n         'orphan': 1,\n         'drug': 3,\n         'rare': 1,\n         'disease': 2,\n         'statistic': 3,\n         'survival': 1,\n         'cure': 1,\n         'model': 2,\n         'north': 1,\n         'sea': 1,\n         'green': 1,\n         'ict': 1,\n         'integration': 1,\n         'develop': 1,\n         'high': 2,\n         'education': 2,\n         'saver': 1,\n         'coagulation': 1,\n         'cardiovascular': 1,\n         'photonic': 1,\n         'biomedical': 1,\n         'bacterial': 1,\n         'type': 2,\n         '3': 1,\n         'protein': 1,\n         'translocation': 1,\n         'system': 6,\n         'in': 2,\n         'vitro': 1,\n         'reconstitution': 1,\n         'enteropathogenic': 1,\n         'escherichia': 1,\n         'coli': 1,\n         'epec': 1,\n         'ovarian': 1,\n         'fraud': 1,\n         'detection': 1,\n         'machine': 5,\n         'learn': 3,\n         'biomass': 1,\n         'valorization': 1,\n         'chemocatalytic': 1,\n         'processing': 2,\n         'sugar': 1,\n         'sideslip': 1,\n         'angle': 1,\n         'tire': 1,\n         'force': 1,\n         'kalman': 1,\n         'filter': 1,\n         'vehicle': 1,\n         'dynamic': 1,\n         'estimation': 1,\n         'wire': 1,\n         'arc': 1,\n         'additive': 1,\n         'manufacturing': 1,\n         'fatigue': 1,\n         'lifetime': 1,\n         'hyperspectral': 1,\n         'lidar': 1,\n         'sentinel': 1,\n         '2': 2,\n         'functional': 1,\n         'optical': 1,\n         'trait': 1,\n         'tree': 1,\n         'health': 3,\n         'stressor': 1,\n         'leaf': 1,\n         'phenology': 1,\n         'public': 1,\n         'bird': 1,\n         'specie': 1,\n         'diversity': 1,\n         'chansonnier': 1,\n         'emotion': 1,\n         'regulation': 2,\n         'esm': 1,\n         'structural': 2,\n         'optimization': 1,\n         'lightweight': 1,\n         'concrete': 1,\n         'building': 2,\n         'component': 2,\n         'robotic': 2,\n         'fabrication': 1,\n         'technique': 2,\n         'collaborative': 1,\n         'design': 5,\n         'adaptive': 1,\n         'reuse': 1,\n         'conceptual': 1,\n         'architecture': 1,\n         'engineering': 2,\n         'multivariate': 1,\n         'calibration': 2,\n         'quality': 4,\n         'transfer': 2,\n         'forestry': 1,\n         'quantile': 1,\n         'regression': 1,\n         'mathematical': 1,\n         'cerebral': 1,\n         'palsy': 1,\n         'stem': 1,\n         'cell': 1,\n         'inorganic': 1,\n         'peptidase': 1,\n         'polyoxozirconate': 1,\n         'nanocluster': 1,\n         'substitute': 1,\n         'derivative': 1,\n         'linguistic': 1,\n         'psychology': 1,\n         'translation': 2,\n         'policy': 1,\n         'european': 1,\n         'culture': 2,\n         'extraction': 2,\n         'mechanism': 1,\n         'transition': 1,\n         'metal': 1,\n         'solvent': 1,\n         'basic': 1,\n         'extractant': 1,\n         'anion': 1,\n         'exchanger': 1,\n         'speciation': 1,\n         'hydration': 1,\n         'hospital': 3,\n         'infrastructure': 1,\n         'personalize': 1,\n         'product': 1,\n         'new': 1,\n         'bank': 1,\n         'archive': 1,\n         'literature': 2,\n         'contemporary': 1,\n         'multidimensional': 1,\n         'employability': 1,\n         'youth': 1,\n         'young': 1,\n         'people': 2,\n         'index': 1,\n         'indicator': 2,\n         'employment': 1,\n         'south': 1,\n         'africa': 1,\n         'cape': 1,\n         'town': 1,\n         'hout': 1,\n         'bay': 1,\n         'ethnography': 1,\n         'mix': 2,\n         'method': 2,\n         'stochastic': 1,\n         'programming': 1,\n         'virtual': 1,\n         'sense': 1,\n         'mechatronic': 1,\n         'multi': 2,\n         'body': 1,\n         'reactive': 1,\n         'crystallization': 1,\n         'ultrasound': 1,\n         'zeolite': 1,\n         'early': 1,\n         'music': 1,\n         'cultural': 1,\n         'heritage': 1,\n         'manuscript': 1,\n         'digital': 1,\n         'humanity': 1,\n         'sound': 1,\n         'technology': 2,\n         'trotational': 1,\n         'insulation': 1,\n         'energy': 1,\n         'performance': 2,\n         'gap': 1,\n         'compliance': 1,\n         'check': 1,\n         'environment': 1,\n         'indoor': 2,\n         'air': 1,\n         'interdisciplinary': 1,\n         'chemistry': 2,\n         'organic': 1,\n         'theme_migrationandin': 1,\n         'kenya': 2,\n         'embu': 1,\n         'county': 1,\n         'central': 1,\n         'highland': 1,\n         'soil': 1,\n         'fertility': 1,\n         'palliative': 1,\n         'care': 3,\n         'resilience': 1,\n         'caregiver': 1,\n         'speed': 1,\n         'adcs': 2,\n         'housing': 2,\n         'iranian': 1,\n         'vibration': 1,\n         'mode': 1,\n         'synthesis': 1,\n         'sub': 1,\n         'structure': 1,\n         'modal': 1,\n         'bayesian': 1,\n         'hierarchical': 1,\n         'datum': 2,\n         'latent': 1,\n         'variable': 1,\n         'patient': 1,\n         'experience': 1,\n         'holistic': 1,\n         'mental': 1,\n         'middle': 2,\n         'age': 2,\n         'and': 5,\n         'old': 1,\n         'primary': 1,\n         'immunodeficiency': 1,\n         'vaccination': 1,\n         'infection': 2,\n         'whole': 1,\n         'exome': 1,\n         'sequence': 1,\n         'immune': 1,\n         'defect': 1,\n         'future': 1,\n         'floodplain': 1,\n         'congenitale': 1,\n         'hernia': 1,\n         'diafragmatica': 1,\n         'pulmonaal': 1,\n         'hypertensie': 1,\n         'placenta': 1,\n         'sildenafil': 1,\n         'al': 1,\n         'c9orf72': 1,\n         'zebrafish': 3,\n         'heat': 2,\n         'multiphase': 1,\n         'batch': 1,\n         'reaction': 1,\n         'scale': 1,\n         'up': 1,\n         'multicultural': 1,\n         'sensitivity': 1,\n         'e': 1,\n         'teacher': 1,\n         'visual': 1,\n         'ture': 1,\n         'semantic': 1,\n         'image': 3,\n         'non': 2,\n         'suicidal': 1,\n         'self': 1,\n         'injury': 1,\n         'ego': 1,\n         'identity': 1,\n         'formation': 2,\n         'online': 1,\n         'socio': 1,\n         'economic': 1,\n         'administrative': 1,\n         'protection': 1,\n         'labour': 2,\n         'market': 1,\n         'security': 2,\n         'datawarehouse': 1,\n         'evodevo': 1,\n         'poetical': 1,\n         'ethos': 1,\n         'literary': 1,\n         'periodical': 1,\n         'poetry': 1,\n         'belgium': 1,\n         'discourse': 1,\n         'cybercrime': 1,\n         'angiosperm': 1,\n         'wood': 1,\n         'flower': 1,\n         'time': 1,\n         'populus': 1,\n         'arabidopsis': 1,\n         'evo': 1,\n         'devo': 1,\n         'nun': 1,\n         'dutch': 1,\n         'host': 1,\n         'microorganism': 1,\n         'interaction': 1,\n         'medical': 1,\n         'science': 2,\n         'surface': 1,\n         'dna': 1,\n         'biologic': 1,\n         'psychotherapie': 1,\n         'audio': 1,\n         'speech': 1,\n         'cryptography': 1,\n         'organ': 4,\n         'school': 1,\n         'dropout': 1,\n         'power': 1,\n         'aquinas': 1,\n         'thomism': 1,\n         'renaissance': 1,\n         'happiness': 1,\n         'virtue': 1,\n         'immigration': 1,\n         'greek': 1,\n         'molecular': 1,\n         'voltage': 1,\n         'gate': 1,\n         'sodium': 1,\n         'radiocaine': 1,\n         'development': 1,\n         'rntp': 1,\n         'cystic': 1,\n         'fibrosis': 1,\n         'cf': 1,\n         'stroke': 1,\n         'upper': 1,\n         'limb': 1,\n         'somatosensory': 1,\n         'function': 2,\n         'motor': 1,\n         'assessment': 1,\n         'legume': 1,\n         'micronutrient': 1,\n         'diabete': 1,\n         'interface': 1,\n         'neuromorphic': 1,\n         'chip': 1,\n         'enzyme': 1,\n         'microsphere': 1,\n         'immobilization': 1,\n         'microbiota': 1,\n         'blastocystis': 1,\n         'urbanisation': 1,\n         'household': 1,\n         'dwell': 1,\n         'consolidation': 1,\n         'incremental': 1,\n         'make': 1,\n         'informal': 1,\n         'settlement': 1,\n         'user': 1,\n         'base': 1,\n         'latin': 1,\n         'america': 1,\n         'subjective': 1,\n         'cognitive': 2,\n         'decline': 1,\n         'event': 1,\n         'relate': 1,\n         'potential': 1,\n         'screen': 1,\n         'tool': 1,\n         'mild': 1,\n         'impairment': 1,\n         'ad': 1,\n         'risk': 1,\n         'group': 1,\n         'danio': 1,\n         'rerio': 1,\n         'human': 1,\n         'norovirus': 1,\n         'virus': 3,\n         'replication': 1,\n         'susceptibility': 1,\n         'to': 1,\n         'viral': 1,\n         'pathogenesis': 1,\n         'enteric': 1,\n         'arthropod': 1,\n         'bear': 1,\n         'nanofluid': 1,\n         'rheology': 1,\n         'intrusive': 1,\n         'measurement': 1,\n         'particle': 1,\n         'aggregation': 1,\n         'daughter': 1,\n         'paul': 1,\n         's': 1,\n         'christology': 1,\n         'lordship': 1})"
     },
     "metadata": {},
     "execution_count": 72
    }
   ],
   "source": [
    "idf_dict"
   ]
  },
  {
   "cell_type": "code",
   "execution_count": 73,
   "metadata": {
    "tags": []
   },
   "outputs": [],
   "source": [
    "# iterates through the dataframe to look at each abstract, calculates the possible keywords\n",
    "for index, row in df.iterrows():\n",
    "    possible_keywords = preprocess_abstract(row[\"english_abstract\"], None)\n",
    "    keyword_frequencies = term_frequency(possible_keywords)"
   ]
  },
  {
   "cell_type": "code",
   "execution_count": 76,
   "metadata": {},
   "outputs": [],
   "source": [
    "intersection = keyword_frequencies.keys() & idf_dict.keys()"
   ]
  },
  {
   "cell_type": "code",
   "execution_count": 77,
   "metadata": {},
   "outputs": [
    {
     "output_type": "execute_result",
     "data": {
      "text/plain": "{'analysis', 'event', 'group', 'lordship'}"
     },
     "metadata": {},
     "execution_count": 77
    }
   ],
   "source": [
    "intersection"
   ]
  },
  {
   "cell_type": "code",
   "execution_count": 79,
   "metadata": {},
   "outputs": [
    {
     "output_type": "execute_result",
     "data": {
      "text/plain": "Counter({'meaning': 0.01282051282051282,\n         'lordship': 0.038461538461538464,\n         'Jesus': 0.02564102564102564,\n         'Christ': 0.02564102564102564,\n         'CorinthiansOne': 0.01282051282051282,\n         'important': 0.01282051282051282,\n         'problem': 0.02564102564102564,\n         'Christology': 0.01282051282051282,\n         '\\xa0 ': 0.02564102564102564,\n         'Paul': 0.02564102564102564,\n         '-PRON-': 0.05128205128205128,\n         'understand': 0.01282051282051282,\n         'nature': 0.02564102564102564,\n         'figure': 0.01282051282051282,\n         'careful': 0.01282051282051282,\n         'analysis': 0.01282051282051282,\n         'title': 0.038461538461538464,\n         'â€˜lord': 0.02564102564102564,\n         'connected': 0.01282051282051282,\n         'idea': 0.02564102564102564,\n         'â€˜lordship': 0.02564102564102564,\n         'clue': 0.01282051282051282,\n         'different': 0.01282051282051282,\n         'possible': 0.01282051282051282,\n         'dimension': 0.01282051282051282,\n         'aspect': 0.01282051282051282,\n         'envisage': 0.01282051282051282,\n         'limit': 0.01282051282051282,\n         'group': 0.01282051282051282,\n         'believer': 0.01282051282051282,\n         'consider': 0.02564102564102564,\n         'manifestation': 0.01282051282051282,\n         'universal': 0.01282051282051282,\n         'dominion': 0.01282051282051282,\n         'start': 0.01282051282051282,\n         'certain': 0.01282051282051282,\n         'historical': 0.01282051282051282,\n         'event': 0.01282051282051282,\n         'preexistence': 0.01282051282051282,\n         'source': 0.01282051282051282,\n         'christian': 0.01282051282051282,\n         'lie': 0.01282051282051282,\n         'Pagan': 0.01282051282051282,\n         'tradition': 0.01282051282051282,\n         'veneration': 0.01282051282051282,\n         'jewish': 0.01282051282051282,\n         'monotheistic': 0.01282051282051282,\n         'formula': 0.01282051282051282,\n         'correlate': 0.01282051282051282,\n         'messianic': 0.01282051282051282,\n         'expectation': 0.01282051282051282,\n         'link': 0.01282051282051282,\n         'â€˜Messiah': 0.01282051282051282,\n         'field': 0.01282051282051282,\n         'investigation': 0.01282051282051282,\n         'letter': 0.01282051282051282,\n         'Corinthians': 0.01282051282051282,\n         'use': 0.01282051282051282,\n         'frequent': 0.01282051282051282,\n         'Corpus': 0.01282051282051282,\n         'Pauline': 0.01282051282051282})"
     },
     "metadata": {},
     "execution_count": 79
    }
   ],
   "source": [
    "keyword_frequencies"
   ]
  },
  {
   "cell_type": "code",
   "execution_count": 87,
   "metadata": {
    "tags": []
   },
   "outputs": [
    {
     "output_type": "stream",
     "name": "stdout",
     "text": "lordship\n0.038461538461538464\n0.08846153846153847\nanalysis\n0.01282051282051282\n0.06282051282051282\ngroup\n0.01282051282051282\n0.06282051282051282\nevent\n0.01282051282051282\n0.06282051282051282\n"
    }
   ],
   "source": [
    "for keyword in keyword_frequencies:\n",
    "    if keyword in idf_dict:\n",
    "        print(keyword)\n",
    "        print(keyword_frequencies[keyword])\n",
    "        keyword_frequencies[keyword] += 0.05\n",
    "        print(keyword_frequencies[keyword])"
   ]
  }
 ],
 "metadata": {
  "kernelspec": {
   "display_name": "Python 3",
   "language": "python",
   "name": "python3"
  },
  "language_info": {
   "codemirror_mode": {
    "name": "ipython",
    "version": 3
   },
   "file_extension": ".py",
   "mimetype": "text/x-python",
   "name": "python",
   "nbconvert_exporter": "python",
   "pygments_lexer": "ipython3",
   "version": "3.7.6"
  }
 },
 "nbformat": 4,
 "nbformat_minor": 4
}