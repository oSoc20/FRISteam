{
 "cells": [
  {
   "cell_type": "code",
   "execution_count": 1,
   "metadata": {},
   "outputs": [],
   "source": [
    "# import necessary packages\n",
    "import pandas as pd\n",
    "import numpy as np\n",
    "import re\n",
    "import string\n",
    "import spacy\n",
    "from spacy.lang.en.stop_words import STOP_WORDS as en_STOP_WORDS\n",
    "from spacy.lang.nl.stop_words import STOP_WORDS as nl_STOP_WORDS\n",
    "import en_core_web_sm\n",
    "import nl_core_news_sm\n",
    "import collections\n",
    "\n",
    "ensp = en_core_web_sm.load()\n",
    "nlsp = nl_core_news_sm.load()\n",
    "ensp_singlewords = en_core_web_sm.load(disable=['parser', 'ner']) # just keep tagger for lemmatization for English\n",
    "nlsp_singlewords = nl_core_news_sm.load(disable=['parser', 'ner']) # just keep tagger for lemmatization for Dutch\n",
    "\n",
    "en_stopwords = ensp.Defaults.stop_words\n",
    "nl_stopwords = nlsp.Defaults.stop_words"
   ]
  },
  {
   "cell_type": "code",
   "execution_count": 2,
   "metadata": {},
   "outputs": [],
   "source": [
    "# read in and preprocess data\n",
    "data = pd.read_csv(\"data.csv\")\n",
    "df = data.copy()"
   ]
  },
  {
   "cell_type": "code",
   "execution_count": 3,
   "metadata": {},
   "outputs": [
    {
     "output_type": "execute_result",
     "data": {
      "text/plain": "   Unnamed: 0                            project_id  \\\n0           0  6fa0f7de-4502-4995-92ae-5467e49df1b3   \n1           1  50a0f20c-331a-41d9-a1ce-24cf21657a48   \n2           2  0ecff36a-9401-431f-a1e9-185c61e89749   \n3           3  43aba49c-eb93-4905-863d-1452b5f9fe80   \n4           4  716b1c6d-e7c2-43d9-994d-b2d9aeccdd24   \n\n                                    english_keywords dutch_keywords  \\\n0  Ion channels;Positive allosteric modulators;Cr...            NaN   \n1  Entrepreneurial orientation;Strategy;Environme...            NaN   \n2                                     breast cancer;            NaN   \n3                                         affording;            NaN   \n4                                         metrology;            NaN   \n\n   abstract_id                                   english_abstract  \\\n0    148096734  Nicotinic acetylcholine receptors (nAChRs) are...   \n1    148089590  In today's intense global competition, and a r...   \n2    147893558  Increased body mass index (BMI) has been recog...   \n3    147604762  Interactive alignment (i.e. copying behaviour ...   \n4    147604718  In this project research into the topographic ...   \n\n                                      dutch_abstract  data_provider_id  \\\n0  Nicotine-acetylcholinereceptoren (nAChR's) zij...          54937891   \n1  In today's intense global competition, and a r...          52804525   \n2  Een verhoogd â€˜body mass index' (BMI) is een ...          54933510   \n3  Eerder onderzoek heeft aangetoond dat kopieged...          54926224   \n4  In dit project zal onderzoek naar de topografi...          54926170   \n\n  data_provider_name  Unnamed: 8  \n0           KULeuven         NaN  \n1           KULeuven         NaN  \n2           KULeuven         NaN  \n3           KULeuven         NaN  \n4           KULeuven         NaN  ",
      "text/html": "<div>\n<style scoped>\n    .dataframe tbody tr th:only-of-type {\n        vertical-align: middle;\n    }\n\n    .dataframe tbody tr th {\n        vertical-align: top;\n    }\n\n    .dataframe thead th {\n        text-align: right;\n    }\n</style>\n<table border=\"1\" class=\"dataframe\">\n  <thead>\n    <tr style=\"text-align: right;\">\n      <th></th>\n      <th>Unnamed: 0</th>\n      <th>project_id</th>\n      <th>english_keywords</th>\n      <th>dutch_keywords</th>\n      <th>abstract_id</th>\n      <th>english_abstract</th>\n      <th>dutch_abstract</th>\n      <th>data_provider_id</th>\n      <th>data_provider_name</th>\n      <th>Unnamed: 8</th>\n    </tr>\n  </thead>\n  <tbody>\n    <tr>\n      <th>0</th>\n      <td>0</td>\n      <td>6fa0f7de-4502-4995-92ae-5467e49df1b3</td>\n      <td>Ion channels;Positive allosteric modulators;Cr...</td>\n      <td>NaN</td>\n      <td>148096734</td>\n      <td>Nicotinic acetylcholine receptors (nAChRs) are...</td>\n      <td>Nicotine-acetylcholinereceptoren (nAChR's) zij...</td>\n      <td>54937891</td>\n      <td>KULeuven</td>\n      <td>NaN</td>\n    </tr>\n    <tr>\n      <th>1</th>\n      <td>1</td>\n      <td>50a0f20c-331a-41d9-a1ce-24cf21657a48</td>\n      <td>Entrepreneurial orientation;Strategy;Environme...</td>\n      <td>NaN</td>\n      <td>148089590</td>\n      <td>In today's intense global competition, and a r...</td>\n      <td>In today's intense global competition, and a r...</td>\n      <td>52804525</td>\n      <td>KULeuven</td>\n      <td>NaN</td>\n    </tr>\n    <tr>\n      <th>2</th>\n      <td>2</td>\n      <td>0ecff36a-9401-431f-a1e9-185c61e89749</td>\n      <td>breast cancer;</td>\n      <td>NaN</td>\n      <td>147893558</td>\n      <td>Increased body mass index (BMI) has been recog...</td>\n      <td>Een verhoogd â€˜body mass index' (BMI) is een ...</td>\n      <td>54933510</td>\n      <td>KULeuven</td>\n      <td>NaN</td>\n    </tr>\n    <tr>\n      <th>3</th>\n      <td>3</td>\n      <td>43aba49c-eb93-4905-863d-1452b5f9fe80</td>\n      <td>affording;</td>\n      <td>NaN</td>\n      <td>147604762</td>\n      <td>Interactive alignment (i.e. copying behaviour ...</td>\n      <td>Eerder onderzoek heeft aangetoond dat kopieged...</td>\n      <td>54926224</td>\n      <td>KULeuven</td>\n      <td>NaN</td>\n    </tr>\n    <tr>\n      <th>4</th>\n      <td>4</td>\n      <td>716b1c6d-e7c2-43d9-994d-b2d9aeccdd24</td>\n      <td>metrology;</td>\n      <td>NaN</td>\n      <td>147604718</td>\n      <td>In this project research into the topographic ...</td>\n      <td>In dit project zal onderzoek naar de topografi...</td>\n      <td>54926170</td>\n      <td>KULeuven</td>\n      <td>NaN</td>\n    </tr>\n  </tbody>\n</table>\n</div>"
     },
     "metadata": {},
     "execution_count": 3
    }
   ],
   "source": [
    "df.head()"
   ]
  },
  {
   "cell_type": "code",
   "execution_count": 4,
   "metadata": {},
   "outputs": [],
   "source": [
    "# preprocesses the keywords\n",
    "for index, row in enumerate(dataframe[\"english_keywords\"]):\n",
    "    if pd.isna(dataframe.iloc[index][\"english_keywords\"]) is False:\n",
    "        dataframe.at[index,\"english_keywords\"] = re.findall(r\"[\\w]+\", dataframe.iloc[index][\"english_keywords\"].lower())"
   ]
  },
  {
   "cell_type": "code",
   "execution_count": 57,
   "metadata": {},
   "outputs": [],
   "source": [
    "# Preprocessing the abstract WITH lemmatization\n",
    "def preprocess_abstract(text, langTag):\n",
    "    \"\"\"function preprocess_abstract : preprocesses a string (e.g. an abstract)\n",
    "\n",
    "   Args:\n",
    "       text (string): a string\n",
    "       langTag (string): the language of the words in wordList and the synonyms (e.g. 'eng' for English and 'nld' for Dutch)\n",
    "\n",
    "   Returns:\n",
    "       list: {dictionary of terms with their frequency relative to the total amount of words}\n",
    "   \"\"\"\n",
    "    abstract = ensp(text.translate(str.maketrans('', '', string.punctuation)))\n",
    "    tokens = [word.lemma_ for word in abstract if not word.lemma_ in en_stopwords and len(word) > 1]\n",
    "    return tokens"
   ]
  },
  {
   "cell_type": "code",
   "execution_count": 58,
   "metadata": {
    "tags": []
   },
   "outputs": [],
   "source": [
    "# calculates the term frequency\n",
    "def term_frequency(tokens):\n",
    "    \"\"\"function term_frequency : calculates the frequencies of terms from a list of words\n",
    "\n",
    "   Args:\n",
    "       tokens ([list of strings]): a list of strings (e.g. single words from an abstract)\n",
    "\n",
    "   Returns:\n",
    "       list: {dictionary of terms with their frequency relative to the total amount of words}\n",
    "   \"\"\"\n",
    "    counter = collections.Counter()\n",
    "    tf_dict = counter.copy()\n",
    "    for word in tokens:\n",
    "        counter[word] += 1\n",
    "    for word in counter:\n",
    "        tf_dict[word] = counter.get(word)/len(tokens)\n",
    "    return tf_dict"
   ]
  },
  {
   "cell_type": "code",
   "execution_count": 19,
   "metadata": {},
   "outputs": [],
   "source": [
    "idf_dict = collections.Counter()\n",
    "for index, row in enumerate(df[\"english_keywords\"]):\n",
    "    if df.isna().iloc[index][\"english_keywords\"] == False:\n",
    "        for word in df.iloc[index][\"english_keywords\"]:\n",
    "            lemma = \" \".join([word.lemma_ for word in ensp_singlewords(word)])\n",
    "            idf_dict[lemma] += 1"
   ]
  },
  {
   "cell_type": "code",
   "execution_count": 22,
   "metadata": {
    "tags": []
   },
   "outputs": [
    {
     "output_type": "stream",
     "name": "stdout",
     "text": "disease\nbrain\ncognitive\ndevelop\nmedical\nstructure\nprotein\nfunction\ndevelopment\nnew\ndrug\nhuman\ndesign\nhigh\npositive\nallosteric\nmodulator\npotential\n"
    }
   ],
   "source": [
    "for term in tf_dict:\n",
    "    if term in idf_dict:\n",
    "        print(term)"
   ]
  },
  {
   "cell_type": "code",
   "execution_count": 61,
   "metadata": {
    "tags": []
   },
   "outputs": [
    {
     "output_type": "error",
     "ename": "KeyError",
     "evalue": "'Possible Keywords'",
     "traceback": [
      "\u001b[0;31m---------------------------------------------------------------------------\u001b[0m",
      "\u001b[0;31mTypeError\u001b[0m                                 Traceback (most recent call last)",
      "\u001b[0;32m~/opt/anaconda3/lib/python3.7/site-packages/pandas/core/indexes/base.py\u001b[0m in \u001b[0;36mget_value\u001b[0;34m(self, series, key)\u001b[0m\n\u001b[1;32m   4410\u001b[0m             \u001b[0;32mtry\u001b[0m\u001b[0;34m:\u001b[0m\u001b[0;34m\u001b[0m\u001b[0;34m\u001b[0m\u001b[0m\n\u001b[0;32m-> 4411\u001b[0;31m                 \u001b[0;32mreturn\u001b[0m \u001b[0mlibindex\u001b[0m\u001b[0;34m.\u001b[0m\u001b[0mget_value_at\u001b[0m\u001b[0;34m(\u001b[0m\u001b[0ms\u001b[0m\u001b[0;34m,\u001b[0m \u001b[0mkey\u001b[0m\u001b[0;34m)\u001b[0m\u001b[0;34m\u001b[0m\u001b[0;34m\u001b[0m\u001b[0m\n\u001b[0m\u001b[1;32m   4412\u001b[0m             \u001b[0;32mexcept\u001b[0m \u001b[0mIndexError\u001b[0m\u001b[0;34m:\u001b[0m\u001b[0;34m\u001b[0m\u001b[0;34m\u001b[0m\u001b[0m\n",
      "\u001b[0;32mpandas/_libs/index.pyx\u001b[0m in \u001b[0;36mpandas._libs.index.get_value_at\u001b[0;34m()\u001b[0m\n",
      "\u001b[0;32mpandas/_libs/index.pyx\u001b[0m in \u001b[0;36mpandas._libs.index.get_value_at\u001b[0;34m()\u001b[0m\n",
      "\u001b[0;32mpandas/_libs/util.pxd\u001b[0m in \u001b[0;36mpandas._libs.util.get_value_at\u001b[0;34m()\u001b[0m\n",
      "\u001b[0;32mpandas/_libs/util.pxd\u001b[0m in \u001b[0;36mpandas._libs.util.validate_indexer\u001b[0;34m()\u001b[0m\n",
      "\u001b[0;31mTypeError\u001b[0m: 'str' object cannot be interpreted as an integer",
      "\nDuring handling of the above exception, another exception occurred:\n",
      "\u001b[0;31mKeyError\u001b[0m                                  Traceback (most recent call last)",
      "\u001b[0;32m<ipython-input-61-48e1e03a6c60>\u001b[0m in \u001b[0;36m<module>\u001b[0;34m\u001b[0m\n\u001b[1;32m      4\u001b[0m     \u001b[0;31m#print(possible_keywords)\u001b[0m\u001b[0;34m\u001b[0m\u001b[0;34m\u001b[0m\u001b[0;34m\u001b[0m\u001b[0m\n\u001b[1;32m      5\u001b[0m     \u001b[0mkeyword_frequencies\u001b[0m \u001b[0;34m=\u001b[0m \u001b[0mterm_frequency\u001b[0m\u001b[0;34m(\u001b[0m\u001b[0mpossible_keywords\u001b[0m\u001b[0;34m)\u001b[0m\u001b[0;34m\u001b[0m\u001b[0;34m\u001b[0m\u001b[0m\n\u001b[0;32m----> 6\u001b[0;31m     \u001b[0mdf\u001b[0m\u001b[0;34m[\u001b[0m\u001b[0mrow\u001b[0m\u001b[0;34m[\u001b[0m\u001b[0;34m\"Possible Keywords\"\u001b[0m\u001b[0;34m]\u001b[0m\u001b[0;34m]\u001b[0m \u001b[0;34m=\u001b[0m \u001b[0mkeyword_frequencies\u001b[0m\u001b[0;34m\u001b[0m\u001b[0;34m\u001b[0m\u001b[0m\n\u001b[0m",
      "\u001b[0;32m~/opt/anaconda3/lib/python3.7/site-packages/pandas/core/series.py\u001b[0m in \u001b[0;36m__getitem__\u001b[0;34m(self, key)\u001b[0m\n\u001b[1;32m    869\u001b[0m         \u001b[0mkey\u001b[0m \u001b[0;34m=\u001b[0m \u001b[0mcom\u001b[0m\u001b[0;34m.\u001b[0m\u001b[0mapply_if_callable\u001b[0m\u001b[0;34m(\u001b[0m\u001b[0mkey\u001b[0m\u001b[0;34m,\u001b[0m \u001b[0mself\u001b[0m\u001b[0;34m)\u001b[0m\u001b[0;34m\u001b[0m\u001b[0;34m\u001b[0m\u001b[0m\n\u001b[1;32m    870\u001b[0m         \u001b[0;32mtry\u001b[0m\u001b[0;34m:\u001b[0m\u001b[0;34m\u001b[0m\u001b[0;34m\u001b[0m\u001b[0m\n\u001b[0;32m--> 871\u001b[0;31m             \u001b[0mresult\u001b[0m \u001b[0;34m=\u001b[0m \u001b[0mself\u001b[0m\u001b[0;34m.\u001b[0m\u001b[0mindex\u001b[0m\u001b[0;34m.\u001b[0m\u001b[0mget_value\u001b[0m\u001b[0;34m(\u001b[0m\u001b[0mself\u001b[0m\u001b[0;34m,\u001b[0m \u001b[0mkey\u001b[0m\u001b[0;34m)\u001b[0m\u001b[0;34m\u001b[0m\u001b[0;34m\u001b[0m\u001b[0m\n\u001b[0m\u001b[1;32m    872\u001b[0m \u001b[0;34m\u001b[0m\u001b[0m\n\u001b[1;32m    873\u001b[0m             \u001b[0;32mif\u001b[0m \u001b[0;32mnot\u001b[0m \u001b[0mis_scalar\u001b[0m\u001b[0;34m(\u001b[0m\u001b[0mresult\u001b[0m\u001b[0;34m)\u001b[0m\u001b[0;34m:\u001b[0m\u001b[0;34m\u001b[0m\u001b[0;34m\u001b[0m\u001b[0m\n",
      "\u001b[0;32m~/opt/anaconda3/lib/python3.7/site-packages/pandas/core/indexes/base.py\u001b[0m in \u001b[0;36mget_value\u001b[0;34m(self, series, key)\u001b[0m\n\u001b[1;32m   4417\u001b[0m                     \u001b[0;32mraise\u001b[0m \u001b[0mInvalidIndexError\u001b[0m\u001b[0;34m(\u001b[0m\u001b[0mkey\u001b[0m\u001b[0;34m)\u001b[0m\u001b[0;34m\u001b[0m\u001b[0;34m\u001b[0m\u001b[0m\n\u001b[1;32m   4418\u001b[0m                 \u001b[0;32melse\u001b[0m\u001b[0;34m:\u001b[0m\u001b[0;34m\u001b[0m\u001b[0;34m\u001b[0m\u001b[0m\n\u001b[0;32m-> 4419\u001b[0;31m                     \u001b[0;32mraise\u001b[0m \u001b[0me1\u001b[0m\u001b[0;34m\u001b[0m\u001b[0;34m\u001b[0m\u001b[0m\n\u001b[0m\u001b[1;32m   4420\u001b[0m             \u001b[0;32mexcept\u001b[0m \u001b[0mException\u001b[0m\u001b[0;34m:\u001b[0m\u001b[0;34m\u001b[0m\u001b[0;34m\u001b[0m\u001b[0m\n\u001b[1;32m   4421\u001b[0m                 \u001b[0;32mraise\u001b[0m \u001b[0me1\u001b[0m\u001b[0;34m\u001b[0m\u001b[0;34m\u001b[0m\u001b[0m\n",
      "\u001b[0;32m~/opt/anaconda3/lib/python3.7/site-packages/pandas/core/indexes/base.py\u001b[0m in \u001b[0;36mget_value\u001b[0;34m(self, series, key)\u001b[0m\n\u001b[1;32m   4403\u001b[0m         \u001b[0mk\u001b[0m \u001b[0;34m=\u001b[0m \u001b[0mself\u001b[0m\u001b[0;34m.\u001b[0m\u001b[0m_convert_scalar_indexer\u001b[0m\u001b[0;34m(\u001b[0m\u001b[0mk\u001b[0m\u001b[0;34m,\u001b[0m \u001b[0mkind\u001b[0m\u001b[0;34m=\u001b[0m\u001b[0;34m\"getitem\"\u001b[0m\u001b[0;34m)\u001b[0m\u001b[0;34m\u001b[0m\u001b[0;34m\u001b[0m\u001b[0m\n\u001b[1;32m   4404\u001b[0m         \u001b[0;32mtry\u001b[0m\u001b[0;34m:\u001b[0m\u001b[0;34m\u001b[0m\u001b[0;34m\u001b[0m\u001b[0m\n\u001b[0;32m-> 4405\u001b[0;31m             \u001b[0;32mreturn\u001b[0m \u001b[0mself\u001b[0m\u001b[0;34m.\u001b[0m\u001b[0m_engine\u001b[0m\u001b[0;34m.\u001b[0m\u001b[0mget_value\u001b[0m\u001b[0;34m(\u001b[0m\u001b[0ms\u001b[0m\u001b[0;34m,\u001b[0m \u001b[0mk\u001b[0m\u001b[0;34m,\u001b[0m \u001b[0mtz\u001b[0m\u001b[0;34m=\u001b[0m\u001b[0mgetattr\u001b[0m\u001b[0;34m(\u001b[0m\u001b[0mseries\u001b[0m\u001b[0;34m.\u001b[0m\u001b[0mdtype\u001b[0m\u001b[0;34m,\u001b[0m \u001b[0;34m\"tz\"\u001b[0m\u001b[0;34m,\u001b[0m \u001b[0;32mNone\u001b[0m\u001b[0;34m)\u001b[0m\u001b[0;34m)\u001b[0m\u001b[0;34m\u001b[0m\u001b[0;34m\u001b[0m\u001b[0m\n\u001b[0m\u001b[1;32m   4406\u001b[0m         \u001b[0;32mexcept\u001b[0m \u001b[0mKeyError\u001b[0m \u001b[0;32mas\u001b[0m \u001b[0me1\u001b[0m\u001b[0;34m:\u001b[0m\u001b[0;34m\u001b[0m\u001b[0;34m\u001b[0m\u001b[0m\n\u001b[1;32m   4407\u001b[0m             \u001b[0;32mif\u001b[0m \u001b[0mlen\u001b[0m\u001b[0;34m(\u001b[0m\u001b[0mself\u001b[0m\u001b[0;34m)\u001b[0m \u001b[0;34m>\u001b[0m \u001b[0;36m0\u001b[0m \u001b[0;32mand\u001b[0m \u001b[0;34m(\u001b[0m\u001b[0mself\u001b[0m\u001b[0;34m.\u001b[0m\u001b[0mholds_integer\u001b[0m\u001b[0;34m(\u001b[0m\u001b[0;34m)\u001b[0m \u001b[0;32mor\u001b[0m \u001b[0mself\u001b[0m\u001b[0;34m.\u001b[0m\u001b[0mis_boolean\u001b[0m\u001b[0;34m(\u001b[0m\u001b[0;34m)\u001b[0m\u001b[0;34m)\u001b[0m\u001b[0;34m:\u001b[0m\u001b[0;34m\u001b[0m\u001b[0;34m\u001b[0m\u001b[0m\n",
      "\u001b[0;32mpandas/_libs/index.pyx\u001b[0m in \u001b[0;36mpandas._libs.index.IndexEngine.get_value\u001b[0;34m()\u001b[0m\n",
      "\u001b[0;32mpandas/_libs/index.pyx\u001b[0m in \u001b[0;36mpandas._libs.index.IndexEngine.get_value\u001b[0;34m()\u001b[0m\n",
      "\u001b[0;32mpandas/_libs/index.pyx\u001b[0m in \u001b[0;36mpandas._libs.index.IndexEngine.get_loc\u001b[0;34m()\u001b[0m\n",
      "\u001b[0;32mpandas/_libs/hashtable_class_helper.pxi\u001b[0m in \u001b[0;36mpandas._libs.hashtable.PyObjectHashTable.get_item\u001b[0;34m()\u001b[0m\n",
      "\u001b[0;32mpandas/_libs/hashtable_class_helper.pxi\u001b[0m in \u001b[0;36mpandas._libs.hashtable.PyObjectHashTable.get_item\u001b[0;34m()\u001b[0m\n",
      "\u001b[0;31mKeyError\u001b[0m: 'Possible Keywords'"
     ]
    }
   ],
   "source": [
    "for index, row in df.iterrows():\n",
    "    #print(row[\"english_abstract\"])\n",
    "    possible_keywords = preprocess_abstract(row[\"english_abstract\"], None)\n",
    "    #print(possible_keywords)\n",
    "    keyword_frequencies = term_frequency(possible_keywords)\n",
    "    df[row[\"Possible Keywords\"]] = keyword_frequencies"
   ]
  },
  {
   "cell_type": "code",
   "execution_count": 62,
   "metadata": {},
   "outputs": [
    {
     "output_type": "execute_result",
     "data": {
      "text/plain": "   Unnamed: 0                            project_id  \\\n0           0  6fa0f7de-4502-4995-92ae-5467e49df1b3   \n1           1  50a0f20c-331a-41d9-a1ce-24cf21657a48   \n2           2  0ecff36a-9401-431f-a1e9-185c61e89749   \n3           3  43aba49c-eb93-4905-863d-1452b5f9fe80   \n4           4  716b1c6d-e7c2-43d9-994d-b2d9aeccdd24   \n\n                                    english_keywords dutch_keywords  \\\n0  [ion, channels, positive, allosteric, modulato...            NaN   \n1  [entrepreneurial, orientation, strategy, envir...            NaN   \n2                                   [breast, cancer]            NaN   \n3                                        [affording]            NaN   \n4                                        [metrology]            NaN   \n\n   abstract_id                                   english_abstract  \\\n0    148096734  Nicotinic acetylcholine receptors (nAChRs) are...   \n1    148089590  In today's intense global competition, and a r...   \n2    147893558  Increased body mass index (BMI) has been recog...   \n3    147604762  Interactive alignment (i.e. copying behaviour ...   \n4    147604718  In this project research into the topographic ...   \n\n                                      dutch_abstract  data_provider_id  \\\n0  Nicotine-acetylcholinereceptoren (nAChR's) zij...          54937891   \n1  In today's intense global competition, and a r...          52804525   \n2  Een verhoogd â€˜body mass index' (BMI) is een ...          54933510   \n3  Eerder onderzoek heeft aangetoond dat kopieged...          54926224   \n4  In dit project zal onderzoek naar de topografi...          54926170   \n\n  data_provider_name  Unnamed: 8  \n0           KULeuven         NaN  \n1           KULeuven         NaN  \n2           KULeuven         NaN  \n3           KULeuven         NaN  \n4           KULeuven         NaN  ",
      "text/html": "<div>\n<style scoped>\n    .dataframe tbody tr th:only-of-type {\n        vertical-align: middle;\n    }\n\n    .dataframe tbody tr th {\n        vertical-align: top;\n    }\n\n    .dataframe thead th {\n        text-align: right;\n    }\n</style>\n<table border=\"1\" class=\"dataframe\">\n  <thead>\n    <tr style=\"text-align: right;\">\n      <th></th>\n      <th>Unnamed: 0</th>\n      <th>project_id</th>\n      <th>english_keywords</th>\n      <th>dutch_keywords</th>\n      <th>abstract_id</th>\n      <th>english_abstract</th>\n      <th>dutch_abstract</th>\n      <th>data_provider_id</th>\n      <th>data_provider_name</th>\n      <th>Unnamed: 8</th>\n    </tr>\n  </thead>\n  <tbody>\n    <tr>\n      <th>0</th>\n      <td>0</td>\n      <td>6fa0f7de-4502-4995-92ae-5467e49df1b3</td>\n      <td>[ion, channels, positive, allosteric, modulato...</td>\n      <td>NaN</td>\n      <td>148096734</td>\n      <td>Nicotinic acetylcholine receptors (nAChRs) are...</td>\n      <td>Nicotine-acetylcholinereceptoren (nAChR's) zij...</td>\n      <td>54937891</td>\n      <td>KULeuven</td>\n      <td>NaN</td>\n    </tr>\n    <tr>\n      <th>1</th>\n      <td>1</td>\n      <td>50a0f20c-331a-41d9-a1ce-24cf21657a48</td>\n      <td>[entrepreneurial, orientation, strategy, envir...</td>\n      <td>NaN</td>\n      <td>148089590</td>\n      <td>In today's intense global competition, and a r...</td>\n      <td>In today's intense global competition, and a r...</td>\n      <td>52804525</td>\n      <td>KULeuven</td>\n      <td>NaN</td>\n    </tr>\n    <tr>\n      <th>2</th>\n      <td>2</td>\n      <td>0ecff36a-9401-431f-a1e9-185c61e89749</td>\n      <td>[breast, cancer]</td>\n      <td>NaN</td>\n      <td>147893558</td>\n      <td>Increased body mass index (BMI) has been recog...</td>\n      <td>Een verhoogd â€˜body mass index' (BMI) is een ...</td>\n      <td>54933510</td>\n      <td>KULeuven</td>\n      <td>NaN</td>\n    </tr>\n    <tr>\n      <th>3</th>\n      <td>3</td>\n      <td>43aba49c-eb93-4905-863d-1452b5f9fe80</td>\n      <td>[affording]</td>\n      <td>NaN</td>\n      <td>147604762</td>\n      <td>Interactive alignment (i.e. copying behaviour ...</td>\n      <td>Eerder onderzoek heeft aangetoond dat kopieged...</td>\n      <td>54926224</td>\n      <td>KULeuven</td>\n      <td>NaN</td>\n    </tr>\n    <tr>\n      <th>4</th>\n      <td>4</td>\n      <td>716b1c6d-e7c2-43d9-994d-b2d9aeccdd24</td>\n      <td>[metrology]</td>\n      <td>NaN</td>\n      <td>147604718</td>\n      <td>In this project research into the topographic ...</td>\n      <td>In dit project zal onderzoek naar de topografi...</td>\n      <td>54926170</td>\n      <td>KULeuven</td>\n      <td>NaN</td>\n    </tr>\n  </tbody>\n</table>\n</div>"
     },
     "metadata": {},
     "execution_count": 62
    }
   ],
   "source": [
    "df.head()"
   ]
  }
 ],
 "metadata": {
  "kernelspec": {
   "display_name": "Python 3",
   "language": "python",
   "name": "python3"
  },
  "language_info": {
   "codemirror_mode": {
    "name": "ipython",
    "version": 3
   },
   "file_extension": ".py",
   "mimetype": "text/x-python",
   "name": "python",
   "nbconvert_exporter": "python",
   "pygments_lexer": "ipython3",
   "version": "3.7.6"
  }
 },
 "nbformat": 4,
 "nbformat_minor": 4
}