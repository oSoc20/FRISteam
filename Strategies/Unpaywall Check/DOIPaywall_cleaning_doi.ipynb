{
 "cells": [
  {
   "cell_type": "markdown",
   "metadata": {},
   "source": [
    "Author : Martelée Baudouin (FRISteam)\n",
    "\n",
    "## Usage of API UnpayWall\n"
   ]
  },
  {
   "cell_type": "code",
   "execution_count": 2,
   "metadata": {},
   "outputs": [],
   "source": [
    "#Import packages\n",
    "import os\n",
    "import requests\n",
    "import pandas as pd\n",
    "from urllib.request import urlopen\n",
    "import json"
   ]
  },
  {
   "cell_type": "code",
   "execution_count": 5,
   "metadata": {
    "scrolled": false
   },
   "outputs": [
    {
     "data": {
      "text/html": [
       "<div>\n",
       "<style scoped>\n",
       "    .dataframe tbody tr th:only-of-type {\n",
       "        vertical-align: middle;\n",
       "    }\n",
       "\n",
       "    .dataframe tbody tr th {\n",
       "        vertical-align: top;\n",
       "    }\n",
       "\n",
       "    .dataframe thead th {\n",
       "        text-align: right;\n",
       "    }\n",
       "</style>\n",
       "<table border=\"1\" class=\"dataframe\">\n",
       "  <thead>\n",
       "    <tr style=\"text-align: right;\">\n",
       "      <th></th>\n",
       "      <th>publication_title</th>\n",
       "      <th>doi</th>\n",
       "    </tr>\n",
       "  </thead>\n",
       "  <tbody>\n",
       "    <tr>\n",
       "      <th>0</th>\n",
       "      <td>Trust and discourse</td>\n",
       "      <td>https://doi.org/10.1075/daps.56</td>\n",
       "    </tr>\n",
       "    <tr>\n",
       "      <th>1</th>\n",
       "      <td>The challenge of measuring hunger through survey</td>\n",
       "      <td>https://doi.org/10.1086/686669</td>\n",
       "    </tr>\n",
       "    <tr>\n",
       "      <th>2</th>\n",
       "      <td>Finite difference approximation of hedging qua...</td>\n",
       "      <td>https://doi.org/10.1063/1.4756108</td>\n",
       "    </tr>\n",
       "    <tr>\n",
       "      <th>3</th>\n",
       "      <td>Mind-sets of boundaryless careers in the publi...</td>\n",
       "      <td>https://doi.org/10.1177/0091026014528479</td>\n",
       "    </tr>\n",
       "    <tr>\n",
       "      <th>4</th>\n",
       "      <td>Assessing indicators of currency crisis in Eth...</td>\n",
       "      <td>https://doi.org/10.1111/1467-8268.12148</td>\n",
       "    </tr>\n",
       "  </tbody>\n",
       "</table>\n",
       "</div>"
      ],
      "text/plain": [
       "                                   publication_title  \\\n",
       "0                                Trust and discourse   \n",
       "1   The challenge of measuring hunger through survey   \n",
       "2  Finite difference approximation of hedging qua...   \n",
       "3  Mind-sets of boundaryless careers in the publi...   \n",
       "4  Assessing indicators of currency crisis in Eth...   \n",
       "\n",
       "                                        doi  \n",
       "0           https://doi.org/10.1075/daps.56  \n",
       "1            https://doi.org/10.1086/686669  \n",
       "2         https://doi.org/10.1063/1.4756108  \n",
       "3  https://doi.org/10.1177/0091026014528479  \n",
       "4   https://doi.org/10.1111/1467-8268.12148  "
      ]
     },
     "execution_count": 5,
     "metadata": {},
     "output_type": "execute_result"
    }
   ],
   "source": [
    "#Import data\n",
    "\n",
    "excel_path = r\"/Users/martelee/Desktop/OSOC/FRISteam/Strategies/Unpaywall Check/dois.csv\"\n",
    "\n",
    "dois_csv = pd.read_csv(excel_path,sep=';')\n",
    "dois_csv.head()"
   ]
  },
  {
   "cell_type": "markdown",
   "metadata": {},
   "source": [
    "### To use the api of UnpayWall, we have to extract the doi from the doi url."
   ]
  },
  {
   "cell_type": "code",
   "execution_count": 6,
   "metadata": {},
   "outputs": [
    {
     "name": "stdout",
     "output_type": "stream",
     "text": [
      "0                  https://doi.org/10.1075/daps.56\n",
      "1                   https://doi.org/10.1086/686669\n",
      "2                https://doi.org/10.1063/1.4756108\n",
      "3         https://doi.org/10.1177/0091026014528479\n",
      "4          https://doi.org/10.1111/1467-8268.12148\n",
      "                          ...                     \n",
      "95      https://doi.org/10.1177/000348941112000910\n",
      "96    https://doi.org/10.1007/978-94-007-5034-0_18\n",
      "97     https://doi.org/10.1109/nssmic.2009.5401812\n",
      "98     https://doi.org/10.1007/978-94-007-5104-0_7\n",
      "99     https://doi.org/10.1007/978-1-61779-591-6_5\n",
      "Name: doi, Length: 100, dtype: object\n"
     ]
    }
   ],
   "source": [
    "#Visualising dois urls\n",
    "dois_urls = dois_csv['doi']\n",
    "print(dois_urls)"
   ]
  },
  {
   "cell_type": "code",
   "execution_count": 7,
   "metadata": {},
   "outputs": [
    {
     "name": "stdout",
     "output_type": "stream",
     "text": [
      "['10.1075/daps.56', '10.1086/686669', '10.1063/1.4756108', '10.1177/0091026014528479', '10.1111/1467-8268.12148', '10.1145/2818361', '10.1177/1367549414557803', '10.1111/1467-8500.12206', '10.1177/1464884916657520', '10.1177/0117196815606852', '10.1080/00343404.2014.932905', '10.1088/2053-1583/3/1/015011', '10.1159/000446242', '10.1063/1.4930048', '10.1177/0974927615586932', '10.1177/0142723716639502', '10.1007/978-3-319-48393-1_28', '10.1183/13993003.00382-2015', '10.1080/00927872.2014.967353', '10.1183/13993003.02049-2015', '10.1111/1365-2664.12643', '10.1007/978-3-319-16009-2_5', '10.1117/12.770724', '10.1080/00319100701790069', '10.1177/0268580916662384', '10.1080/00319100802239479', '10.1117/12.769423', '10.1186/1471-2105-11-360', '10.1080/03088831003700553', '10.1063/1.3295550', '10.1080/02664760902914425', '10.1063/1.3115407', '10.1145/1527286.1527289', '10.1111/idj.12220', '10.7202/1038325ar', '10.1017/s1431927616012484', '10.1016/j.physc.2010.02.036', '10.5334/jbr-btr.954', '10.1063/1.3446892', '10.1063/1.3197635', '10.1080/02664763.2010.515302', '10.1080/19439341003786729', '10.1063/1.3295453', '10.1063/1.3295432', '10.1080/03081060.2010.527183', '10.1007/978-3-642-02843-4_14', '10.1080/13691457.2010.516621', '10.1080/13691457.2010.520411', '10.1007/978-3-642-21058-7', '10.1117/12.877850', '10.1108/01437721111136741', '10.1007/s10910-010-9741-z', '10.1080/19440049.2011.584069', '10.1080/13504622.2011.557498', '10.1063/1.3498060', '10.1063/1.3644158', '10.1080/16184742.2011.624111', '10.1063/1.3507129', '10.1080/17461391003770509', '10.1080/00397709.2011.552847', '10.1063/1.3295404', '10.1145/1559795.1559811', '10.1145/2448496.2448516', '10.1145/2639490.2639506', '10.1145/1989284.1989295', '10.1109/ipcc.2010.5530021', '10.1109/aict.2008.46', '10.1145/2645710.2645731', '10.1109/icde.2008.4497460', '10.1145/1938551.1938559', '10.1145/1804669.1804694', '10.1145/2745754.2745771', '10.1145/2594538.2594551', '10.1145/2213556.2213592', '10.1145/1376916.1376949', '10.1145/2623330.2623333', '10.1145/1807085.1807109', '10.1109/icde.2009.208', '10.1080/03088839.2012.729700', '10.1186/1750-9378-8-39', '10.1185/03007995.2013.837816', '10.1517/14728222.2013.818135', '10.1007/s11356-013-2109-8', '10.1517/14728222.2014.936383', '10.1177/1470357214533448', '10.1517/14712598.2014.902926', '10.1177/1750698016670783', '10.1177/0959354316638764', '10.1108/02651330810904044', '10.1177/0959683609345080', '10.1183/09031936.00035310', '10.1183/09031936.00026711', '10.1080/02602938.2011.581859', '10.1517/13543776.2011.587803', '10.1097/inf.0b013e318173966f', '10.1177/000348941112000910', '10.1007/978-94-007-5034-0_18', '10.1109/nssmic.2009.5401812', '10.1007/978-94-007-5104-0_7', '10.1007/978-1-61779-591-6_5']\n"
     ]
    }
   ],
   "source": [
    "\n",
    "def extract_doi(dois_urls_series):\n",
    "    \"\"\"\n",
    "    Extract dois from the dois urls and store them in a list\n",
    "    \"\"\"\n",
    "    slashparts = dois_urls_series.str.split('https://doi.org/')\n",
    "    dois_list = list()\n",
    "    for i in range(len(dois_urls_series)):\n",
    "        dois_list.append(slashparts[i][1])\n",
    "    return dois_list\n",
    "\n",
    "\n",
    "dois_list = extract_doi(dois_urls)\n",
    "print(dois_list)"
   ]
  },
  {
   "cell_type": "markdown",
   "metadata": {},
   "source": [
    "For each doi, we extract the DOI object and store it in a directory (json object)"
   ]
  },
  {
   "cell_type": "code",
   "execution_count": 22,
   "metadata": {},
   "outputs": [
    {
     "name": "stdout",
     "output_type": "stream",
     "text": [
      "Done: 1 of 100 articles\n",
      "Done: 2 of 100 articles\n",
      "Done: 3 of 100 articles\n",
      "Done: 4 of 100 articles\n",
      "Done: 5 of 100 articles\n",
      "Done: 6 of 100 articles\n",
      "Done: 7 of 100 articles\n",
      "Done: 8 of 100 articles\n",
      "Done: 9 of 100 articles\n",
      "Done: 10 of 100 articles\n",
      "Done: 11 of 100 articles\n",
      "Done: 12 of 100 articles\n",
      "Done: 13 of 100 articles\n",
      "Done: 14 of 100 articles\n",
      "Done: 15 of 100 articles\n",
      "Done: 16 of 100 articles\n",
      "Done: 17 of 100 articles\n",
      "Done: 18 of 100 articles\n",
      "Done: 19 of 100 articles\n",
      "Done: 20 of 100 articles\n",
      "Done: 21 of 100 articles\n",
      "Done: 22 of 100 articles\n",
      "Done: 23 of 100 articles\n",
      "Done: 24 of 100 articles\n",
      "Done: 25 of 100 articles\n",
      "Done: 26 of 100 articles\n",
      "Done: 27 of 100 articles\n",
      "Done: 28 of 100 articles\n",
      "Done: 29 of 100 articles\n",
      "Done: 30 of 100 articles\n",
      "Done: 31 of 100 articles\n",
      "Done: 32 of 100 articles\n",
      "Done: 33 of 100 articles\n",
      "Done: 34 of 100 articles\n",
      "Done: 35 of 100 articles\n",
      "Done: 36 of 100 articles\n",
      "Done: 37 of 100 articles\n",
      "Done: 38 of 100 articles\n",
      "Done: 39 of 100 articles\n",
      "Done: 40 of 100 articles\n",
      "Done: 41 of 100 articles\n",
      "Done: 42 of 100 articles\n",
      "Done: 43 of 100 articles\n",
      "Done: 44 of 100 articles\n",
      "Done: 45 of 100 articles\n",
      "Done: 46 of 100 articles\n",
      "Done: 47 of 100 articles\n",
      "Done: 48 of 100 articles\n",
      "Done: 49 of 100 articles\n",
      "Done: 50 of 100 articles\n",
      "Done: 51 of 100 articles\n",
      "Done: 52 of 100 articles\n",
      "Done: 53 of 100 articles\n",
      "Done: 54 of 100 articles\n",
      "Done: 55 of 100 articles\n",
      "Done: 56 of 100 articles\n",
      "Done: 57 of 100 articles\n",
      "Done: 58 of 100 articles\n",
      "Done: 59 of 100 articles\n",
      "Done: 60 of 100 articles\n",
      "Done: 61 of 100 articles\n",
      "Done: 62 of 100 articles\n",
      "Done: 63 of 100 articles\n",
      "Done: 64 of 100 articles\n",
      "Done: 65 of 100 articles\n",
      "Done: 66 of 100 articles\n",
      "Done: 67 of 100 articles\n",
      "Done: 68 of 100 articles\n",
      "Done: 69 of 100 articles\n",
      "Done: 70 of 100 articles\n",
      "Done: 71 of 100 articles\n",
      "Done: 72 of 100 articles\n",
      "Done: 73 of 100 articles\n",
      "Done: 74 of 100 articles\n",
      "Done: 75 of 100 articles\n",
      "Done: 76 of 100 articles\n",
      "Done: 77 of 100 articles\n",
      "Done: 78 of 100 articles\n",
      "Done: 79 of 100 articles\n",
      "Done: 80 of 100 articles\n",
      "Done: 81 of 100 articles\n",
      "Done: 82 of 100 articles\n",
      "Done: 83 of 100 articles\n",
      "Done: 84 of 100 articles\n",
      "Done: 85 of 100 articles\n",
      "Done: 86 of 100 articles\n",
      "Done: 87 of 100 articles\n",
      "Done: 88 of 100 articles\n",
      "Done: 89 of 100 articles\n",
      "Done: 90 of 100 articles\n",
      "Done: 91 of 100 articles\n",
      "Done: 92 of 100 articles\n",
      "Done: 93 of 100 articles\n",
      "Done: 94 of 100 articles\n",
      "Done: 95 of 100 articles\n",
      "Done: 96 of 100 articles\n",
      "Done: 97 of 100 articles\n",
      "Done: 98 of 100 articles\n",
      "Done: 99 of 100 articles\n",
      "Done: 100 of 100 articles\n",
      "100\n"
     ]
    }
   ],
   "source": [
    "import pandas as pd\n",
    "import os\n",
    "import requests\n",
    "\n",
    "\n",
    "def get_publication(doi, file_to_save_to):\n",
    "    url = f'http://api.unpaywall.org/v2/{doi}?email=baudlemartino@hotmail.com'\n",
    "    with requests.get(url, stream=True) as r:\n",
    "        if r.status_code == 200:\n",
    "            for chunk in r.iter_content(chunk_size=1024*1024):\n",
    "                file_to_save_to.write(chunk)\n",
    "    \n",
    "\n",
    "\n",
    "path = r'/Users/martelee/Desktop/OSOC/FRISteam/Strategies/Unpaywall Check/DOIS'\n",
    "count = 0\n",
    "for doi in dois_list:\n",
    "    doiID = doi.replace('/','_')\n",
    "    if not os.path.exists('{}/{}.json'.format(path,doiID)):\n",
    "        path = path.replace('\\\\','/')\n",
    "        with open('{}/DOI{}.json'.format(path,doiID), 'wb') as file :\n",
    "            get_publication(doi, file)\n",
    "        count += 1\n",
    "        print(f\"Done: {count} of {len(dois_list)} articles\")\n",
    "print(count)"
   ]
  },
  {
   "cell_type": "code",
   "execution_count": null,
   "metadata": {},
   "outputs": [],
   "source": []
  },
  {
   "cell_type": "code",
   "execution_count": 9,
   "metadata": {},
   "outputs": [
    {
     "name": "stdout",
     "output_type": "stream",
     "text": [
      "                                   publication_title  \\\n",
      "0                                Trust and discourse   \n",
      "1   The challenge of measuring hunger through survey   \n",
      "2  Finite difference approximation of hedging qua...   \n",
      "3  Mind-sets of boundaryless careers in the publi...   \n",
      "4  Assessing indicators of currency crisis in Eth...   \n",
      "\n",
      "                                        doi data received from unpaywall  \\\n",
      "0           https://doi.org/10.1075/daps.56                          yes   \n",
      "1            https://doi.org/10.1086/686669                          yes   \n",
      "2         https://doi.org/10.1063/1.4756108                          yes   \n",
      "3  https://doi.org/10.1177/0091026014528479                          yes   \n",
      "4   https://doi.org/10.1111/1467-8268.12148                          yes   \n",
      "\n",
      "  No paywall                                           pdf urls  \n",
      "0      False                                             No pdf  \n",
      "1      False                                             No pdf  \n",
      "2       True  https://hal.inria.fr/hal-01653505/file/416579_...  \n",
      "3      False                                             No pdf  \n",
      "4      False                                             No pdf  \n"
     ]
    }
   ],
   "source": [
    "import glob\n",
    "\n",
    "path = r'/Users/martelee/Desktop/OSOC/FRISteam/Strategies/Unpaywall Check/DOIS'\n",
    "dois_unpaywall_csv = dois_csv\n",
    "\n",
    "dois_unpaywall_csv['data received from unpaywall'] = \"\"\n",
    "dois_unpaywall_csv['No paywall'] = \"\"\n",
    "dois_unpaywall_csv['pdf urls'] = \"\"\n",
    "\n",
    "i = 0\n",
    "for filepath in glob.glob(os.path.join(path,'*.json')):\n",
    "    filepath = filepath.replace('\\\\','/')\n",
    "    with open(filepath, 'r') as file :\n",
    "        try:\n",
    "          jsonfile = json.loads(file.read())\n",
    "          dois_unpaywall_csv[\"data received from unpaywall\"][i] = \"yes\"\n",
    "        except:\n",
    "          dois_unpaywall_csv[\"data received from unpaywall\"][i] = \"no\"\n",
    "       \n",
    "        dois_unpaywall_csv['No paywall'][i] = jsonfile[\"is_oa\"]\n",
    "        \n",
    "        if jsonfile[\"best_oa_location\"] is not None:\n",
    "            dois_unpaywall_csv['pdf urls'][i] = jsonfile[\"best_oa_location\"][\"url_for_pdf\"]\n",
    "        else:\n",
    "            dois_unpaywall_csv['pdf urls'][i] = \"No pdf\"\n",
    "        \n",
    "        i = i+1\n",
    "        \n",
    "print(dois_unpaywall_csv.head(5))"
   ]
  },
  {
   "cell_type": "code",
   "execution_count": 11,
   "metadata": {},
   "outputs": [],
   "source": [
    "dois_unpaywall_csv.to_csv(r'C:\\Users\\Baudouin\\Documents\\IPL_BLOC_3\\Osoc\\dois_information.csv', index = False)"
   ]
  }
 ],
 "metadata": {
  "kernelspec": {
   "display_name": "Python 3",
   "language": "python",
   "name": "python3"
  },
  "language_info": {
   "codemirror_mode": {
    "name": "ipython",
    "version": 3
   },
   "file_extension": ".py",
   "mimetype": "text/x-python",
   "name": "python",
   "nbconvert_exporter": "python",
   "pygments_lexer": "ipython3",
   "version": "3.7.2"
  }
 },
 "nbformat": 4,
 "nbformat_minor": 4
}
