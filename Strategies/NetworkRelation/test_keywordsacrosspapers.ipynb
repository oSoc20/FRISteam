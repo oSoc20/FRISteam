{
 "cells": [
  {
   "cell_type": "code",
   "execution_count": 1,
   "metadata": {},
   "outputs": [
    {
     "output_type": "error",
     "ename": "NameError",
     "evalue": "name '__file__' is not defined",
     "traceback": [
      "\u001b[0;31m---------------------------------------------------------------------------\u001b[0m",
      "\u001b[0;31mNameError\u001b[0m                                 Traceback (most recent call last)",
      "\u001b[0;32m<ipython-input-1-daaf1dc7294e>\u001b[0m in \u001b[0;36m<module>\u001b[0;34m\u001b[0m\n\u001b[1;32m      6\u001b[0m \u001b[0;32mimport\u001b[0m \u001b[0mos\u001b[0m\u001b[0;34m\u001b[0m\u001b[0;34m\u001b[0m\u001b[0m\n\u001b[1;32m      7\u001b[0m \u001b[0mPACKAGE_PARENT\u001b[0m \u001b[0;34m=\u001b[0m \u001b[0;34m'../..'\u001b[0m\u001b[0;34m\u001b[0m\u001b[0;34m\u001b[0m\u001b[0m\n\u001b[0;32m----> 8\u001b[0;31m \u001b[0mSCRIPT_DIR\u001b[0m \u001b[0;34m=\u001b[0m \u001b[0mos\u001b[0m\u001b[0;34m.\u001b[0m\u001b[0mpath\u001b[0m\u001b[0;34m.\u001b[0m\u001b[0mdirname\u001b[0m\u001b[0;34m(\u001b[0m\u001b[0mos\u001b[0m\u001b[0;34m.\u001b[0m\u001b[0mpath\u001b[0m\u001b[0;34m.\u001b[0m\u001b[0mrealpath\u001b[0m\u001b[0;34m(\u001b[0m\u001b[0mos\u001b[0m\u001b[0;34m.\u001b[0m\u001b[0mpath\u001b[0m\u001b[0;34m.\u001b[0m\u001b[0mjoin\u001b[0m\u001b[0;34m(\u001b[0m\u001b[0mos\u001b[0m\u001b[0;34m.\u001b[0m\u001b[0mgetcwd\u001b[0m\u001b[0;34m(\u001b[0m\u001b[0;34m)\u001b[0m\u001b[0;34m,\u001b[0m \u001b[0mos\u001b[0m\u001b[0;34m.\u001b[0m\u001b[0mpath\u001b[0m\u001b[0;34m.\u001b[0m\u001b[0mexpanduser\u001b[0m\u001b[0;34m(\u001b[0m\u001b[0m__file__\u001b[0m\u001b[0;34m)\u001b[0m\u001b[0;34m)\u001b[0m\u001b[0;34m)\u001b[0m\u001b[0;34m)\u001b[0m\u001b[0;34m\u001b[0m\u001b[0;34m\u001b[0m\u001b[0m\n\u001b[0m\u001b[1;32m      9\u001b[0m \u001b[0msys\u001b[0m\u001b[0;34m.\u001b[0m\u001b[0mpath\u001b[0m\u001b[0;34m.\u001b[0m\u001b[0mappend\u001b[0m\u001b[0;34m(\u001b[0m\u001b[0mos\u001b[0m\u001b[0;34m.\u001b[0m\u001b[0mpath\u001b[0m\u001b[0;34m.\u001b[0m\u001b[0mnormpath\u001b[0m\u001b[0;34m(\u001b[0m\u001b[0mos\u001b[0m\u001b[0;34m.\u001b[0m\u001b[0mpath\u001b[0m\u001b[0;34m.\u001b[0m\u001b[0mjoin\u001b[0m\u001b[0;34m(\u001b[0m\u001b[0mSCRIPT_DIR\u001b[0m\u001b[0;34m,\u001b[0m \u001b[0mPACKAGE_PARENT\u001b[0m\u001b[0;34m)\u001b[0m\u001b[0;34m)\u001b[0m\u001b[0;34m)\u001b[0m\u001b[0;34m\u001b[0m\u001b[0;34m\u001b[0m\u001b[0m\n\u001b[1;32m     10\u001b[0m \u001b[0;32mfrom\u001b[0m \u001b[0mStrategies\u001b[0m\u001b[0;34m.\u001b[0m\u001b[0mNetworkRelation\u001b[0m\u001b[0;34m.\u001b[0m\u001b[0mnetworkrelation\u001b[0m \u001b[0;32mimport\u001b[0m \u001b[0mpreprocess_abstract\u001b[0m\u001b[0;34m,\u001b[0m \u001b[0mcalculate_term_frequency\u001b[0m\u001b[0;34m,\u001b[0m \u001b[0mprocess_keyword_list\u001b[0m\u001b[0;34m,\u001b[0m \u001b[0mnetwork_relation\u001b[0m\u001b[0;34m\u001b[0m\u001b[0;34m\u001b[0m\u001b[0m\n",
      "\u001b[0;31mNameError\u001b[0m: name '__file__' is not defined"
     ]
    }
   ],
   "source": [
    "\"\"\"\n",
    "Test module for the networkrelation module\n",
    "\"\"\"\n",
    "import unittest\n",
    "import sys\n",
    "import os\n",
    "PACKAGE_PARENT = '../..'\n",
    "SCRIPT_DIR = os.path.dirname(os.path.realpath(os.path.join(os.getcwd(), os.path.expanduser(__file__))))\n",
    "sys.path.append(os.path.normpath(os.path.join(SCRIPT_DIR, PACKAGE_PARENT)))\n",
    "from Strategies.NetworkRelation.networkrelation import preprocess_abstract, calculate_term_frequency, process_keyword_list, network_relation\n",
    "\n",
    "class TestNetworkRelation(unittest.TestCase):\n",
    "\n",
    "    def test_compare_english(self):\n",
    "        self.assertEqual(textrank_keywords())\n",
    "\n",
    "    def test_compare_dutch(self):\n",
    "        self.assertEqual(textrank_keywords())\n",
    "\n",
    "    def test_compare_empty_abstract_en(self):\n",
    "        self.assertEqual(textrank_keywords())\n",
    "\n",
    "    def test_compare_empty_abstract_nl(self):\n",
    "        self.assertEqual(textrank_keywords())\n",
    "    \n",
    "    def test_compare_empty_keywords_en(self):\n",
    "        self.assertEqual(textrank_keywords())\n",
    "\n",
    "    def test_compare_empty_keywords_nl(self):\n",
    "        self.assertEqual(textrank_keywords())\n",
    "\n",
    "    def test_compare_empty_en(self):\n",
    "        self.assertEqual(textrank_keywords())\n",
    "\n",
    "    def test_compare_empty_nl(self):\n",
    "        self.assertEqual(textrank_keywords())"
   ]
  },
  {
   "cell_type": "code",
   "execution_count": null,
   "metadata": {},
   "outputs": [],
   "source": []
  }
 ],
 "metadata": {
  "language_info": {
   "codemirror_mode": {
    "name": "ipython",
    "version": 3
   },
   "file_extension": ".py",
   "mimetype": "text/x-python",
   "name": "python",
   "nbconvert_exporter": "python",
   "pygments_lexer": "ipython3",
   "version": 3
  },
  "orig_nbformat": 2,
  "kernelspec": {
   "name": "python_defaultSpec_1595416215978",
   "display_name": "Python 3.7.6 64-bit ('base': conda)"
  }
 },
 "nbformat": 4,
 "nbformat_minor": 2
}