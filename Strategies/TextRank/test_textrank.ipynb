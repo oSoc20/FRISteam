{
 "cells": [
  {
   "cell_type": "code",
   "execution_count": 1,
   "metadata": {},
   "outputs": [
    {
     "output_type": "error",
     "ename": "IndentationError",
     "evalue": "expected an indented block (<ipython-input-1-232f0dc56837>, line 14)",
     "traceback": [
      "\u001b[0;36m  File \u001b[0;32m\"<ipython-input-1-232f0dc56837>\"\u001b[0;36m, line \u001b[0;32m14\u001b[0m\n\u001b[0;31m    if __name__ == '__main__':\u001b[0m\n\u001b[0m     ^\u001b[0m\n\u001b[0;31mIndentationError\u001b[0m\u001b[0;31m:\u001b[0m expected an indented block\n"
     ]
    }
   ],
   "source": [
    "\"\"\"\n",
    "Test module for the textrank module\n",
    "\"\"\"\n",
    "import unittest\n",
    "import sys\n",
    "from Strategies.TextRank.textrank import TextRank4Keyword, textrank_keywords\n",
    "\n",
    "class TestTextRank(unittest.TestCase):\n",
    "\n",
    "    def test_extract_english_keywords(self):\n",
    "        self.assertEqual(textrank_keywords(\"\", \"en\")\n",
    "    \n",
    "    def test_extract_dutch_keywords(self):\n",
    "        self.assertEqual(textrank_keywords(\"\", \"nl\")\n",
    "\n",
    "    def test_extract_short_english_abstract(self):\n",
    "        self.assertEqual(textrank_keywords(\"\", \"en\")\n",
    "\n",
    "    def test_extract_short_dutch_abstract(self):\n",
    "        self.assertEqual(textrank_keywords(\"\", \"nl\")\n",
    "\n",
    "    def test_extract_empty_english_abstract(self):\n",
    "        self.assertEqual(textrank_keywords(\"\", \"en\")\n",
    "\n",
    "    def test_extract_empty_dutch_abstract(self):\n",
    "        self.assertEqual(textrank_keywords(\"\", \"nl\")\n",
    "\n",
    "if __name__ == '__main__':\n",
    "    unittest.main()"
   ]
  },
  {
   "cell_type": "code",
   "execution_count": null,
   "metadata": {},
   "outputs": [],
   "source": []
  }
 ],
 "metadata": {
  "language_info": {
   "codemirror_mode": {
    "name": "ipython",
    "version": 3
   },
   "file_extension": ".py",
   "mimetype": "text/x-python",
   "name": "python",
   "nbconvert_exporter": "python",
   "pygments_lexer": "ipython3",
   "version": 3
  },
  "orig_nbformat": 2,
  "kernelspec": {
   "name": "python_defaultSpec_1594892128290",
   "display_name": "Python 3.7.6 64-bit ('base': conda)"
  }
 },
 "nbformat": 4,
 "nbformat_minor": 2
}